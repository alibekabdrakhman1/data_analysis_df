{
 "cells": [
  {
   "cell_type": "code",
   "execution_count": 4,
   "metadata": {
    "id": "31hYX1vwqGiG"
   },
   "outputs": [],
   "source": [
    "import pandas as pd\n",
    "import numpy as np\n",
    "from sklearn.preprocessing import StandardScaler\n",
    "from sklearn.model_selection import train_test_split\n",
    "from sklearn.linear_model import LinearRegression\n",
    "from sklearn.model_selection import KFold, cross_val_score"
   ]
  },
  {
   "cell_type": "markdown",
   "metadata": {
    "id": "ail3shl3_SUT"
   },
   "source": [
    "# **Data Research**"
   ]
  },
  {
   "cell_type": "code",
   "execution_count": 5,
   "metadata": {
    "colab": {
     "base_uri": "https://localhost:8080/",
     "height": 424
    },
    "id": "oFDkWp3aponU",
    "outputId": "f20c1dfd-5c7b-4d5e-d292-2e5d26e297d8"
   },
   "outputs": [
    {
     "data": {
      "text/html": [
       "<div>\n",
       "<style scoped>\n",
       "    .dataframe tbody tr th:only-of-type {\n",
       "        vertical-align: middle;\n",
       "    }\n",
       "\n",
       "    .dataframe tbody tr th {\n",
       "        vertical-align: top;\n",
       "    }\n",
       "\n",
       "    .dataframe thead th {\n",
       "        text-align: right;\n",
       "    }\n",
       "</style>\n",
       "<table border=\"1\" class=\"dataframe\">\n",
       "  <thead>\n",
       "    <tr style=\"text-align: right;\">\n",
       "      <th></th>\n",
       "      <th>Unnamed: 0</th>\n",
       "      <th>Name of book</th>\n",
       "      <th>Year of relase</th>\n",
       "      <th>Price</th>\n",
       "      <th>Category</th>\n",
       "      <th>Rating</th>\n",
       "    </tr>\n",
       "  </thead>\n",
       "  <tbody>\n",
       "    <tr>\n",
       "      <th>0</th>\n",
       "      <td>0</td>\n",
       "      <td>Грокаем алгоритмы</td>\n",
       "      <td>2022.0</td>\n",
       "      <td>6 571</td>\n",
       "      <td>Питер, Прогресс книга, Библиотека программиста</td>\n",
       "      <td>4.7</td>\n",
       "    </tr>\n",
       "    <tr>\n",
       "      <th>1</th>\n",
       "      <td>1</td>\n",
       "      <td>Чистый код. Создание, анализ и рефакторинг</td>\n",
       "      <td>2019.0</td>\n",
       "      <td>4 951</td>\n",
       "      <td>Питер</td>\n",
       "      <td>3.0</td>\n",
       "    </tr>\n",
       "    <tr>\n",
       "      <th>2</th>\n",
       "      <td>2</td>\n",
       "      <td>Java. Руководство для начинающих</td>\n",
       "      <td>2019.0</td>\n",
       "      <td>26 728</td>\n",
       "      <td>Вильямс, Диалектика / Вильямс</td>\n",
       "      <td>4.0</td>\n",
       "    </tr>\n",
       "    <tr>\n",
       "      <th>3</th>\n",
       "      <td>3</td>\n",
       "      <td>System Design. Подготовка к сложному интервью</td>\n",
       "      <td>2022.0</td>\n",
       "      <td>7 666</td>\n",
       "      <td>Прогресс книга, Питер, Библиотека программиста</td>\n",
       "      <td>4.5</td>\n",
       "    </tr>\n",
       "    <tr>\n",
       "      <th>4</th>\n",
       "      <td>4</td>\n",
       "      <td>Разработка требований</td>\n",
       "      <td>2021.0</td>\n",
       "      <td>12 296</td>\n",
       "      <td>БХВ-Петербург, BHV</td>\n",
       "      <td>4.7</td>\n",
       "    </tr>\n",
       "    <tr>\n",
       "      <th>...</th>\n",
       "      <td>...</td>\n",
       "      <td>...</td>\n",
       "      <td>...</td>\n",
       "      <td>...</td>\n",
       "      <td>...</td>\n",
       "      <td>...</td>\n",
       "    </tr>\n",
       "    <tr>\n",
       "      <th>235</th>\n",
       "      <td>235</td>\n",
       "      <td>Проектирование в AutoCad</td>\n",
       "      <td>2021.0</td>\n",
       "      <td>5 594</td>\n",
       "      <td>МГТУ им. Баумана</td>\n",
       "      <td>4.2</td>\n",
       "    </tr>\n",
       "    <tr>\n",
       "      <th>236</th>\n",
       "      <td>236</td>\n",
       "      <td>Структуры данных в С++</td>\n",
       "      <td>2020.0</td>\n",
       "      <td>5 240</td>\n",
       "      <td>МГТУ им. Баумана</td>\n",
       "      <td>4.4</td>\n",
       "    </tr>\n",
       "    <tr>\n",
       "      <th>237</th>\n",
       "      <td>237</td>\n",
       "      <td>Детям об интернете</td>\n",
       "      <td>2020.0</td>\n",
       "      <td>2 197</td>\n",
       "      <td>Белорусская Православная Церковь</td>\n",
       "      <td>4.4</td>\n",
       "    </tr>\n",
       "    <tr>\n",
       "      <th>238</th>\n",
       "      <td>238</td>\n",
       "      <td>JavaScript. Как писать программы</td>\n",
       "      <td>2022.0</td>\n",
       "      <td>22 492</td>\n",
       "      <td>Лань, Компьютеры и программное обеспечение</td>\n",
       "      <td>4.6</td>\n",
       "    </tr>\n",
       "    <tr>\n",
       "      <th>239</th>\n",
       "      <td>239</td>\n",
       "      <td>Защита информации</td>\n",
       "      <td>2021.0</td>\n",
       "      <td>15 005</td>\n",
       "      <td>РИОР, Высшее образование</td>\n",
       "      <td>3.4</td>\n",
       "    </tr>\n",
       "  </tbody>\n",
       "</table>\n",
       "<p>240 rows × 6 columns</p>\n",
       "</div>"
      ],
      "text/plain": [
       "     Unnamed: 0                                   Name of book  \\\n",
       "0             0                              Грокаем алгоритмы   \n",
       "1             1     Чистый код. Создание, анализ и рефакторинг   \n",
       "2             2               Java. Руководство для начинающих   \n",
       "3             3  System Design. Подготовка к сложному интервью   \n",
       "4             4                          Разработка требований   \n",
       "..          ...                                            ...   \n",
       "235         235                       Проектирование в AutoCad   \n",
       "236         236                         Структуры данных в С++   \n",
       "237         237                             Детям об интернете   \n",
       "238         238               JavaScript. Как писать программы   \n",
       "239         239                              Защита информации   \n",
       "\n",
       "     Year of relase   Price                                        Category  \\\n",
       "0            2022.0   6 571  Питер, Прогресс книга, Библиотека программиста   \n",
       "1            2019.0   4 951                                           Питер   \n",
       "2            2019.0  26 728                   Вильямс, Диалектика / Вильямс   \n",
       "3            2022.0   7 666  Прогресс книга, Питер, Библиотека программиста   \n",
       "4            2021.0  12 296                              БХВ-Петербург, BHV   \n",
       "..              ...     ...                                             ...   \n",
       "235          2021.0   5 594                                МГТУ им. Баумана   \n",
       "236          2020.0   5 240                                МГТУ им. Баумана   \n",
       "237          2020.0   2 197                Белорусская Православная Церковь   \n",
       "238          2022.0  22 492      Лань, Компьютеры и программное обеспечение   \n",
       "239          2021.0  15 005                        РИОР, Высшее образование   \n",
       "\n",
       "     Rating  \n",
       "0       4.7  \n",
       "1       3.0  \n",
       "2       4.0  \n",
       "3       4.5  \n",
       "4       4.7  \n",
       "..      ...  \n",
       "235     4.2  \n",
       "236     4.4  \n",
       "237     4.4  \n",
       "238     4.6  \n",
       "239     3.4  \n",
       "\n",
       "[240 rows x 6 columns]"
      ]
     },
     "execution_count": 5,
     "metadata": {},
     "output_type": "execute_result"
    }
   ],
   "source": [
    "df = pd.read_csv('flip.csv', index_col=False)\n",
    "df"
   ]
  },
  {
   "cell_type": "code",
   "execution_count": 6,
   "metadata": {
    "colab": {
     "base_uri": "https://localhost:8080/"
    },
    "id": "d8hEpHXHprag",
    "outputId": "96603426-5cdc-4042-99f6-95f188bae1e8"
   },
   "outputs": [
    {
     "name": "stdout",
     "output_type": "stream",
     "text": [
      "<class 'pandas.core.frame.DataFrame'>\n",
      "RangeIndex: 240 entries, 0 to 239\n",
      "Data columns (total 6 columns):\n",
      " #   Column          Non-Null Count  Dtype  \n",
      "---  ------          --------------  -----  \n",
      " 0   Unnamed: 0      240 non-null    int64  \n",
      " 1   Name of book    240 non-null    object \n",
      " 2   Year of relase  239 non-null    float64\n",
      " 3   Price           240 non-null    object \n",
      " 4   Category        240 non-null    object \n",
      " 5   Rating          240 non-null    float64\n",
      "dtypes: float64(2), int64(1), object(3)\n",
      "memory usage: 11.4+ KB\n"
     ]
    }
   ],
   "source": [
    "df.info()"
   ]
  },
  {
   "cell_type": "code",
   "execution_count": 7,
   "metadata": {
    "colab": {
     "base_uri": "https://localhost:8080/",
     "height": 301
    },
    "id": "PdVSQDPh_lDP",
    "outputId": "98fba0b2-dd51-49a2-c618-bae3c5f87cbc"
   },
   "outputs": [
    {
     "data": {
      "text/html": [
       "<div>\n",
       "<style scoped>\n",
       "    .dataframe tbody tr th:only-of-type {\n",
       "        vertical-align: middle;\n",
       "    }\n",
       "\n",
       "    .dataframe tbody tr th {\n",
       "        vertical-align: top;\n",
       "    }\n",
       "\n",
       "    .dataframe thead th {\n",
       "        text-align: right;\n",
       "    }\n",
       "</style>\n",
       "<table border=\"1\" class=\"dataframe\">\n",
       "  <thead>\n",
       "    <tr style=\"text-align: right;\">\n",
       "      <th></th>\n",
       "      <th>Unnamed: 0</th>\n",
       "      <th>Year of relase</th>\n",
       "      <th>Rating</th>\n",
       "    </tr>\n",
       "  </thead>\n",
       "  <tbody>\n",
       "    <tr>\n",
       "      <th>count</th>\n",
       "      <td>240.00000</td>\n",
       "      <td>239.000000</td>\n",
       "      <td>240.000000</td>\n",
       "    </tr>\n",
       "    <tr>\n",
       "      <th>mean</th>\n",
       "      <td>119.50000</td>\n",
       "      <td>2020.451883</td>\n",
       "      <td>4.030417</td>\n",
       "    </tr>\n",
       "    <tr>\n",
       "      <th>std</th>\n",
       "      <td>69.42622</td>\n",
       "      <td>2.321978</td>\n",
       "      <td>0.602325</td>\n",
       "    </tr>\n",
       "    <tr>\n",
       "      <th>min</th>\n",
       "      <td>0.00000</td>\n",
       "      <td>2009.000000</td>\n",
       "      <td>3.000000</td>\n",
       "    </tr>\n",
       "    <tr>\n",
       "      <th>25%</th>\n",
       "      <td>59.75000</td>\n",
       "      <td>2019.000000</td>\n",
       "      <td>3.500000</td>\n",
       "    </tr>\n",
       "    <tr>\n",
       "      <th>50%</th>\n",
       "      <td>119.50000</td>\n",
       "      <td>2021.000000</td>\n",
       "      <td>4.000000</td>\n",
       "    </tr>\n",
       "    <tr>\n",
       "      <th>75%</th>\n",
       "      <td>179.25000</td>\n",
       "      <td>2022.000000</td>\n",
       "      <td>4.600000</td>\n",
       "    </tr>\n",
       "    <tr>\n",
       "      <th>max</th>\n",
       "      <td>239.00000</td>\n",
       "      <td>2023.000000</td>\n",
       "      <td>5.000000</td>\n",
       "    </tr>\n",
       "  </tbody>\n",
       "</table>\n",
       "</div>"
      ],
      "text/plain": [
       "       Unnamed: 0  Year of relase      Rating\n",
       "count   240.00000      239.000000  240.000000\n",
       "mean    119.50000     2020.451883    4.030417\n",
       "std      69.42622        2.321978    0.602325\n",
       "min       0.00000     2009.000000    3.000000\n",
       "25%      59.75000     2019.000000    3.500000\n",
       "50%     119.50000     2021.000000    4.000000\n",
       "75%     179.25000     2022.000000    4.600000\n",
       "max     239.00000     2023.000000    5.000000"
      ]
     },
     "execution_count": 7,
     "metadata": {},
     "output_type": "execute_result"
    }
   ],
   "source": [
    "df.describe()"
   ]
  },
  {
   "cell_type": "code",
   "execution_count": 8,
   "metadata": {
    "colab": {
     "base_uri": "https://localhost:8080/"
    },
    "id": "t_Hxy44RqiSL",
    "outputId": "0890d33c-9a2f-4a14-c399-369f6c5f5706"
   },
   "outputs": [
    {
     "data": {
      "text/plain": [
       "Unnamed: 0        0\n",
       "Name of book      0\n",
       "Year of relase    1\n",
       "Price             0\n",
       "Category          0\n",
       "Rating            0\n",
       "dtype: int64"
      ]
     },
     "execution_count": 8,
     "metadata": {},
     "output_type": "execute_result"
    }
   ],
   "source": [
    "df.isnull().sum()"
   ]
  },
  {
   "cell_type": "code",
   "execution_count": 9,
   "metadata": {
    "id": "7sAZHq9Zqc44"
   },
   "outputs": [],
   "source": [
    "df.rename(columns = {'Unnamed: 0':'Id', 'Year of relase':'Year of release'}, inplace = True)"
   ]
  },
  {
   "cell_type": "markdown",
   "metadata": {
    "id": "P6OG7iEv_rBV"
   },
   "source": [
    "# **Data Cleaning**"
   ]
  },
  {
   "cell_type": "code",
   "execution_count": 10,
   "metadata": {
    "colab": {
     "base_uri": "https://localhost:8080/"
    },
    "id": "qpvF4DswrGIZ",
    "outputId": "9e9e4231-db10-4a8b-9003-0a5e30344f5a"
   },
   "outputs": [
    {
     "data": {
      "text/plain": [
       "Index(['Id', 'Name of book', 'Year of release', 'Price', 'Category', 'Rating'], dtype='object')"
      ]
     },
     "execution_count": 10,
     "metadata": {},
     "output_type": "execute_result"
    }
   ],
   "source": [
    "df.columns"
   ]
  },
  {
   "cell_type": "code",
   "execution_count": 11,
   "metadata": {
    "id": "wteba_TcsJ2B"
   },
   "outputs": [],
   "source": [
    "df1 = df.copy()"
   ]
  },
  {
   "cell_type": "code",
   "execution_count": 12,
   "metadata": {
    "colab": {
     "base_uri": "https://localhost:8080/",
     "height": 424
    },
    "id": "PH9JhzuHr5Co",
    "outputId": "30a377e1-7c8f-4c46-90ef-d32cfbcc1074"
   },
   "outputs": [
    {
     "data": {
      "text/html": [
       "<div>\n",
       "<style scoped>\n",
       "    .dataframe tbody tr th:only-of-type {\n",
       "        vertical-align: middle;\n",
       "    }\n",
       "\n",
       "    .dataframe tbody tr th {\n",
       "        vertical-align: top;\n",
       "    }\n",
       "\n",
       "    .dataframe thead th {\n",
       "        text-align: right;\n",
       "    }\n",
       "</style>\n",
       "<table border=\"1\" class=\"dataframe\">\n",
       "  <thead>\n",
       "    <tr style=\"text-align: right;\">\n",
       "      <th></th>\n",
       "      <th>Id</th>\n",
       "      <th>Name of book</th>\n",
       "      <th>Year of release</th>\n",
       "      <th>Price</th>\n",
       "      <th>Category</th>\n",
       "      <th>Rating</th>\n",
       "    </tr>\n",
       "  </thead>\n",
       "  <tbody>\n",
       "    <tr>\n",
       "      <th>0</th>\n",
       "      <td>1</td>\n",
       "      <td>Грокаем алгоритмы</td>\n",
       "      <td>2022.0</td>\n",
       "      <td>6 571</td>\n",
       "      <td>Питер, Прогресс книга, Библиотека программиста</td>\n",
       "      <td>4.7</td>\n",
       "    </tr>\n",
       "    <tr>\n",
       "      <th>1</th>\n",
       "      <td>2</td>\n",
       "      <td>Чистый код. Создание, анализ и рефакторинг</td>\n",
       "      <td>2019.0</td>\n",
       "      <td>4 951</td>\n",
       "      <td>Питер</td>\n",
       "      <td>3.0</td>\n",
       "    </tr>\n",
       "    <tr>\n",
       "      <th>2</th>\n",
       "      <td>3</td>\n",
       "      <td>Java. Руководство для начинающих</td>\n",
       "      <td>2019.0</td>\n",
       "      <td>26 728</td>\n",
       "      <td>Вильямс, Диалектика / Вильямс</td>\n",
       "      <td>4.0</td>\n",
       "    </tr>\n",
       "    <tr>\n",
       "      <th>3</th>\n",
       "      <td>4</td>\n",
       "      <td>System Design. Подготовка к сложному интервью</td>\n",
       "      <td>2022.0</td>\n",
       "      <td>7 666</td>\n",
       "      <td>Прогресс книга, Питер, Библиотека программиста</td>\n",
       "      <td>4.5</td>\n",
       "    </tr>\n",
       "    <tr>\n",
       "      <th>4</th>\n",
       "      <td>5</td>\n",
       "      <td>Разработка требований</td>\n",
       "      <td>2021.0</td>\n",
       "      <td>12 296</td>\n",
       "      <td>БХВ-Петербург, BHV</td>\n",
       "      <td>4.7</td>\n",
       "    </tr>\n",
       "    <tr>\n",
       "      <th>...</th>\n",
       "      <td>...</td>\n",
       "      <td>...</td>\n",
       "      <td>...</td>\n",
       "      <td>...</td>\n",
       "      <td>...</td>\n",
       "      <td>...</td>\n",
       "    </tr>\n",
       "    <tr>\n",
       "      <th>235</th>\n",
       "      <td>236</td>\n",
       "      <td>Проектирование в AutoCad</td>\n",
       "      <td>2021.0</td>\n",
       "      <td>5 594</td>\n",
       "      <td>МГТУ им. Баумана</td>\n",
       "      <td>4.2</td>\n",
       "    </tr>\n",
       "    <tr>\n",
       "      <th>236</th>\n",
       "      <td>237</td>\n",
       "      <td>Структуры данных в С++</td>\n",
       "      <td>2020.0</td>\n",
       "      <td>5 240</td>\n",
       "      <td>МГТУ им. Баумана</td>\n",
       "      <td>4.4</td>\n",
       "    </tr>\n",
       "    <tr>\n",
       "      <th>237</th>\n",
       "      <td>238</td>\n",
       "      <td>Детям об интернете</td>\n",
       "      <td>2020.0</td>\n",
       "      <td>2 197</td>\n",
       "      <td>Белорусская Православная Церковь</td>\n",
       "      <td>4.4</td>\n",
       "    </tr>\n",
       "    <tr>\n",
       "      <th>238</th>\n",
       "      <td>239</td>\n",
       "      <td>JavaScript. Как писать программы</td>\n",
       "      <td>2022.0</td>\n",
       "      <td>22 492</td>\n",
       "      <td>Лань, Компьютеры и программное обеспечение</td>\n",
       "      <td>4.6</td>\n",
       "    </tr>\n",
       "    <tr>\n",
       "      <th>239</th>\n",
       "      <td>240</td>\n",
       "      <td>Защита информации</td>\n",
       "      <td>2021.0</td>\n",
       "      <td>15 005</td>\n",
       "      <td>РИОР, Высшее образование</td>\n",
       "      <td>3.4</td>\n",
       "    </tr>\n",
       "  </tbody>\n",
       "</table>\n",
       "<p>240 rows × 6 columns</p>\n",
       "</div>"
      ],
      "text/plain": [
       "      Id                                   Name of book  Year of release  \\\n",
       "0      1                              Грокаем алгоритмы           2022.0   \n",
       "1      2     Чистый код. Создание, анализ и рефакторинг           2019.0   \n",
       "2      3               Java. Руководство для начинающих           2019.0   \n",
       "3      4  System Design. Подготовка к сложному интервью           2022.0   \n",
       "4      5                          Разработка требований           2021.0   \n",
       "..   ...                                            ...              ...   \n",
       "235  236                       Проектирование в AutoCad           2021.0   \n",
       "236  237                         Структуры данных в С++           2020.0   \n",
       "237  238                             Детям об интернете           2020.0   \n",
       "238  239               JavaScript. Как писать программы           2022.0   \n",
       "239  240                              Защита информации           2021.0   \n",
       "\n",
       "      Price                                        Category  Rating  \n",
       "0     6 571  Питер, Прогресс книга, Библиотека программиста     4.7  \n",
       "1     4 951                                           Питер     3.0  \n",
       "2    26 728                   Вильямс, Диалектика / Вильямс     4.0  \n",
       "3     7 666  Прогресс книга, Питер, Библиотека программиста     4.5  \n",
       "4    12 296                              БХВ-Петербург, BHV     4.7  \n",
       "..      ...                                             ...     ...  \n",
       "235   5 594                                МГТУ им. Баумана     4.2  \n",
       "236   5 240                                МГТУ им. Баумана     4.4  \n",
       "237   2 197                Белорусская Православная Церковь     4.4  \n",
       "238  22 492      Лань, Компьютеры и программное обеспечение     4.6  \n",
       "239  15 005                        РИОР, Высшее образование     3.4  \n",
       "\n",
       "[240 rows x 6 columns]"
      ]
     },
     "execution_count": 12,
     "metadata": {},
     "output_type": "execute_result"
    }
   ],
   "source": [
    "df1['Id'] = df1['Id'] + 1\n",
    "df1"
   ]
  },
  {
   "cell_type": "code",
   "execution_count": 13,
   "metadata": {
    "colab": {
     "base_uri": "https://localhost:8080/",
     "height": 424
    },
    "id": "huxV3uY7s4IC",
    "outputId": "bb4e06ad-1677-4257-847b-c1f93e602bac"
   },
   "outputs": [
    {
     "data": {
      "text/html": [
       "<div>\n",
       "<style scoped>\n",
       "    .dataframe tbody tr th:only-of-type {\n",
       "        vertical-align: middle;\n",
       "    }\n",
       "\n",
       "    .dataframe tbody tr th {\n",
       "        vertical-align: top;\n",
       "    }\n",
       "\n",
       "    .dataframe thead th {\n",
       "        text-align: right;\n",
       "    }\n",
       "</style>\n",
       "<table border=\"1\" class=\"dataframe\">\n",
       "  <thead>\n",
       "    <tr style=\"text-align: right;\">\n",
       "      <th></th>\n",
       "      <th>Id</th>\n",
       "      <th>Name of book</th>\n",
       "      <th>Year of release</th>\n",
       "      <th>Price</th>\n",
       "      <th>Category</th>\n",
       "      <th>Rating</th>\n",
       "    </tr>\n",
       "  </thead>\n",
       "  <tbody>\n",
       "    <tr>\n",
       "      <th>0</th>\n",
       "      <td>1</td>\n",
       "      <td>Грокаем алгоритмы</td>\n",
       "      <td>2022.0</td>\n",
       "      <td>6 571</td>\n",
       "      <td>Питер, Прогресс книга, Библиотека программиста</td>\n",
       "      <td>4.7</td>\n",
       "    </tr>\n",
       "    <tr>\n",
       "      <th>1</th>\n",
       "      <td>2</td>\n",
       "      <td>Чистый код. Создание, анализ и рефакторинг</td>\n",
       "      <td>2019.0</td>\n",
       "      <td>4 951</td>\n",
       "      <td>Питер</td>\n",
       "      <td>3.0</td>\n",
       "    </tr>\n",
       "    <tr>\n",
       "      <th>2</th>\n",
       "      <td>3</td>\n",
       "      <td>Java. Руководство для начинающих</td>\n",
       "      <td>2019.0</td>\n",
       "      <td>26 728</td>\n",
       "      <td>Вильямс, Диалектика / Вильямс</td>\n",
       "      <td>4.0</td>\n",
       "    </tr>\n",
       "    <tr>\n",
       "      <th>3</th>\n",
       "      <td>4</td>\n",
       "      <td>System Design. Подготовка к сложному интервью</td>\n",
       "      <td>2022.0</td>\n",
       "      <td>7 666</td>\n",
       "      <td>Прогресс книга, Питер, Библиотека программиста</td>\n",
       "      <td>4.5</td>\n",
       "    </tr>\n",
       "    <tr>\n",
       "      <th>4</th>\n",
       "      <td>5</td>\n",
       "      <td>Разработка требований</td>\n",
       "      <td>2021.0</td>\n",
       "      <td>12 296</td>\n",
       "      <td>БХВ-Петербург, BHV</td>\n",
       "      <td>4.7</td>\n",
       "    </tr>\n",
       "    <tr>\n",
       "      <th>...</th>\n",
       "      <td>...</td>\n",
       "      <td>...</td>\n",
       "      <td>...</td>\n",
       "      <td>...</td>\n",
       "      <td>...</td>\n",
       "      <td>...</td>\n",
       "    </tr>\n",
       "    <tr>\n",
       "      <th>235</th>\n",
       "      <td>236</td>\n",
       "      <td>Проектирование в AutoCad</td>\n",
       "      <td>2021.0</td>\n",
       "      <td>5 594</td>\n",
       "      <td>МГТУ им. Баумана</td>\n",
       "      <td>4.2</td>\n",
       "    </tr>\n",
       "    <tr>\n",
       "      <th>236</th>\n",
       "      <td>237</td>\n",
       "      <td>Структуры данных в С++</td>\n",
       "      <td>2020.0</td>\n",
       "      <td>5 240</td>\n",
       "      <td>МГТУ им. Баумана</td>\n",
       "      <td>4.4</td>\n",
       "    </tr>\n",
       "    <tr>\n",
       "      <th>237</th>\n",
       "      <td>238</td>\n",
       "      <td>Детям об интернете</td>\n",
       "      <td>2020.0</td>\n",
       "      <td>2 197</td>\n",
       "      <td>Белорусская Православная Церковь</td>\n",
       "      <td>4.4</td>\n",
       "    </tr>\n",
       "    <tr>\n",
       "      <th>238</th>\n",
       "      <td>239</td>\n",
       "      <td>JavaScript. Как писать программы</td>\n",
       "      <td>2022.0</td>\n",
       "      <td>22 492</td>\n",
       "      <td>Лань, Компьютеры и программное обеспечение</td>\n",
       "      <td>4.6</td>\n",
       "    </tr>\n",
       "    <tr>\n",
       "      <th>239</th>\n",
       "      <td>240</td>\n",
       "      <td>Защита информации</td>\n",
       "      <td>2021.0</td>\n",
       "      <td>15 005</td>\n",
       "      <td>РИОР, Высшее образование</td>\n",
       "      <td>3.4</td>\n",
       "    </tr>\n",
       "  </tbody>\n",
       "</table>\n",
       "<p>240 rows × 6 columns</p>\n",
       "</div>"
      ],
      "text/plain": [
       "      Id                                   Name of book  Year of release  \\\n",
       "0      1                              Грокаем алгоритмы           2022.0   \n",
       "1      2     Чистый код. Создание, анализ и рефакторинг           2019.0   \n",
       "2      3               Java. Руководство для начинающих           2019.0   \n",
       "3      4  System Design. Подготовка к сложному интервью           2022.0   \n",
       "4      5                          Разработка требований           2021.0   \n",
       "..   ...                                            ...              ...   \n",
       "235  236                       Проектирование в AutoCad           2021.0   \n",
       "236  237                         Структуры данных в С++           2020.0   \n",
       "237  238                             Детям об интернете           2020.0   \n",
       "238  239               JavaScript. Как писать программы           2022.0   \n",
       "239  240                              Защита информации           2021.0   \n",
       "\n",
       "      Price                                        Category  Rating  \n",
       "0     6 571  Питер, Прогресс книга, Библиотека программиста     4.7  \n",
       "1     4 951                                           Питер     3.0  \n",
       "2    26 728                   Вильямс, Диалектика / Вильямс     4.0  \n",
       "3     7 666  Прогресс книга, Питер, Библиотека программиста     4.5  \n",
       "4    12 296                              БХВ-Петербург, BHV     4.7  \n",
       "..      ...                                             ...     ...  \n",
       "235   5 594                                МГТУ им. Баумана     4.2  \n",
       "236   5 240                                МГТУ им. Баумана     4.4  \n",
       "237   2 197                Белорусская Православная Церковь     4.4  \n",
       "238  22 492      Лань, Компьютеры и программное обеспечение     4.6  \n",
       "239  15 005                        РИОР, Высшее образование     3.4  \n",
       "\n",
       "[240 rows x 6 columns]"
      ]
     },
     "execution_count": 13,
     "metadata": {},
     "output_type": "execute_result"
    }
   ],
   "source": [
    "df2 = df1.copy()\n",
    "df2"
   ]
  },
  {
   "cell_type": "code",
   "execution_count": 14,
   "metadata": {
    "colab": {
     "base_uri": "https://localhost:8080/"
    },
    "id": "HbUKmztIi4F2",
    "outputId": "cf1bf53f-2f10-451e-dfd4-64ddec78f553"
   },
   "outputs": [
    {
     "data": {
      "text/plain": [
       "0"
      ]
     },
     "execution_count": 14,
     "metadata": {},
     "output_type": "execute_result"
    }
   ],
   "source": [
    "df2['Price'].isnull().sum()"
   ]
  },
  {
   "cell_type": "code",
   "execution_count": 15,
   "metadata": {
    "colab": {
     "base_uri": "https://localhost:8080/",
     "height": 363
    },
    "id": "2y0fK3IlkRUP",
    "outputId": "fa568274-1efe-46a1-f9e8-2debbcaf49c1"
   },
   "outputs": [
    {
     "data": {
      "text/html": [
       "<div>\n",
       "<style scoped>\n",
       "    .dataframe tbody tr th:only-of-type {\n",
       "        vertical-align: middle;\n",
       "    }\n",
       "\n",
       "    .dataframe tbody tr th {\n",
       "        vertical-align: top;\n",
       "    }\n",
       "\n",
       "    .dataframe thead th {\n",
       "        text-align: right;\n",
       "    }\n",
       "</style>\n",
       "<table border=\"1\" class=\"dataframe\">\n",
       "  <thead>\n",
       "    <tr style=\"text-align: right;\">\n",
       "      <th></th>\n",
       "      <th>Id</th>\n",
       "      <th>Name of book</th>\n",
       "      <th>Year of release</th>\n",
       "      <th>Price</th>\n",
       "      <th>Category</th>\n",
       "      <th>Rating</th>\n",
       "    </tr>\n",
       "  </thead>\n",
       "  <tbody>\n",
       "    <tr>\n",
       "      <th>0</th>\n",
       "      <td>1</td>\n",
       "      <td>Грокаем алгоритмы</td>\n",
       "      <td>2022.0</td>\n",
       "      <td>6 571</td>\n",
       "      <td>Питер, Прогресс книга, Библиотека программиста</td>\n",
       "      <td>4.7</td>\n",
       "    </tr>\n",
       "    <tr>\n",
       "      <th>1</th>\n",
       "      <td>2</td>\n",
       "      <td>Чистый код. Создание, анализ и рефакторинг</td>\n",
       "      <td>2019.0</td>\n",
       "      <td>4 951</td>\n",
       "      <td>Питер</td>\n",
       "      <td>3.0</td>\n",
       "    </tr>\n",
       "    <tr>\n",
       "      <th>2</th>\n",
       "      <td>3</td>\n",
       "      <td>Java. Руководство для начинающих</td>\n",
       "      <td>2019.0</td>\n",
       "      <td>26 728</td>\n",
       "      <td>Вильямс, Диалектика / Вильямс</td>\n",
       "      <td>4.0</td>\n",
       "    </tr>\n",
       "    <tr>\n",
       "      <th>3</th>\n",
       "      <td>4</td>\n",
       "      <td>System Design. Подготовка к сложному интервью</td>\n",
       "      <td>2022.0</td>\n",
       "      <td>7 666</td>\n",
       "      <td>Прогресс книга, Питер, Библиотека программиста</td>\n",
       "      <td>4.5</td>\n",
       "    </tr>\n",
       "    <tr>\n",
       "      <th>4</th>\n",
       "      <td>5</td>\n",
       "      <td>Разработка требований</td>\n",
       "      <td>2021.0</td>\n",
       "      <td>12 296</td>\n",
       "      <td>БХВ-Петербург, BHV</td>\n",
       "      <td>4.7</td>\n",
       "    </tr>\n",
       "    <tr>\n",
       "      <th>5</th>\n",
       "      <td>6</td>\n",
       "      <td>Дизайн. Книга для недизайнеров</td>\n",
       "      <td>2019.0</td>\n",
       "      <td>7 329</td>\n",
       "      <td>Прогресс книга, Современный дизайн</td>\n",
       "      <td>3.9</td>\n",
       "    </tr>\n",
       "    <tr>\n",
       "      <th>6</th>\n",
       "      <td>7</td>\n",
       "      <td>Философия Java</td>\n",
       "      <td>2019.0</td>\n",
       "      <td>18 828</td>\n",
       "      <td>Прогресс книга, Питер, Классика Computer Science</td>\n",
       "      <td>5.0</td>\n",
       "    </tr>\n",
       "    <tr>\n",
       "      <th>7</th>\n",
       "      <td>8</td>\n",
       "      <td>Swift. Основы разработки приложений под iOS</td>\n",
       "      <td>2021.0</td>\n",
       "      <td>10 739</td>\n",
       "      <td>Питер, Прогресс книга, Библиотека программиста</td>\n",
       "      <td>4.2</td>\n",
       "    </tr>\n",
       "    <tr>\n",
       "      <th>8</th>\n",
       "      <td>9</td>\n",
       "      <td>Глубокое обучение. Легкая разработка проектов ...</td>\n",
       "      <td>2021.0</td>\n",
       "      <td>15 778</td>\n",
       "      <td>Питер, Прогресс книга, Бестселлеры O`Reilly</td>\n",
       "      <td>3.6</td>\n",
       "    </tr>\n",
       "    <tr>\n",
       "      <th>9</th>\n",
       "      <td>10</td>\n",
       "      <td>Визуальные эффекты. Взгляд изнутри</td>\n",
       "      <td>2021.0</td>\n",
       "      <td>8 719</td>\n",
       "      <td>ДМК Пресс</td>\n",
       "      <td>3.4</td>\n",
       "    </tr>\n",
       "  </tbody>\n",
       "</table>\n",
       "</div>"
      ],
      "text/plain": [
       "   Id                                       Name of book  Year of release  \\\n",
       "0   1                                  Грокаем алгоритмы           2022.0   \n",
       "1   2         Чистый код. Создание, анализ и рефакторинг           2019.0   \n",
       "2   3                   Java. Руководство для начинающих           2019.0   \n",
       "3   4      System Design. Подготовка к сложному интервью           2022.0   \n",
       "4   5                              Разработка требований           2021.0   \n",
       "5   6                     Дизайн. Книга для недизайнеров           2019.0   \n",
       "6   7                                     Философия Java           2019.0   \n",
       "7   8        Swift. Основы разработки приложений под iOS           2021.0   \n",
       "8   9  Глубокое обучение. Легкая разработка проектов ...           2021.0   \n",
       "9  10                 Визуальные эффекты. Взгляд изнутри           2021.0   \n",
       "\n",
       "    Price                                          Category  Rating  \n",
       "0   6 571    Питер, Прогресс книга, Библиотека программиста     4.7  \n",
       "1   4 951                                             Питер     3.0  \n",
       "2  26 728                     Вильямс, Диалектика / Вильямс     4.0  \n",
       "3   7 666    Прогресс книга, Питер, Библиотека программиста     4.5  \n",
       "4  12 296                                БХВ-Петербург, BHV     4.7  \n",
       "5   7 329                Прогресс книга, Современный дизайн     3.9  \n",
       "6  18 828  Прогресс книга, Питер, Классика Computer Science     5.0  \n",
       "7  10 739    Питер, Прогресс книга, Библиотека программиста     4.2  \n",
       "8  15 778       Питер, Прогресс книга, Бестселлеры O`Reilly     3.6  \n",
       "9   8 719                                         ДМК Пресс     3.4  "
      ]
     },
     "execution_count": 15,
     "metadata": {},
     "output_type": "execute_result"
    }
   ],
   "source": [
    "df2.head(10)"
   ]
  },
  {
   "cell_type": "code",
   "execution_count": 16,
   "metadata": {
    "id": "-twnk2xZmK_e"
   },
   "outputs": [],
   "source": [
    "df2['Price'] = df2['Price'].str.replace(' ', '')"
   ]
  },
  {
   "cell_type": "code",
   "execution_count": 17,
   "metadata": {
    "colab": {
     "base_uri": "https://localhost:8080/"
    },
    "id": "fLpW-6Uko9rF",
    "outputId": "849c6b66-ba4d-4eb9-c17e-f7def99a3e61"
   },
   "outputs": [
    {
     "data": {
      "text/plain": [
       "0       6571\n",
       "1       4951\n",
       "2      26728\n",
       "3       7666\n",
       "4      12296\n",
       "       ...  \n",
       "235     5594\n",
       "236     5240\n",
       "237     2197\n",
       "238    22492\n",
       "239    15005\n",
       "Name: Price, Length: 240, dtype: int64"
      ]
     },
     "execution_count": 17,
     "metadata": {},
     "output_type": "execute_result"
    }
   ],
   "source": [
    "df2['Price'].astype(int)"
   ]
  },
  {
   "cell_type": "code",
   "execution_count": 18,
   "metadata": {
    "colab": {
     "base_uri": "https://localhost:8080/"
    },
    "id": "DLVxAlqkkCl9",
    "outputId": "d3726917-81a3-4ff3-929f-e6e1304ec0ab"
   },
   "outputs": [
    {
     "data": {
      "text/plain": [
       "Id                   int64\n",
       "Name of book        object\n",
       "Year of release    float64\n",
       "Price               object\n",
       "Category            object\n",
       "Rating             float64\n",
       "dtype: object"
      ]
     },
     "execution_count": 18,
     "metadata": {},
     "output_type": "execute_result"
    }
   ],
   "source": [
    "df2.dtypes"
   ]
  },
  {
   "cell_type": "markdown",
   "metadata": {
    "id": "flYQI0tb3Hi7"
   },
   "source": [
    "# **data visualization**"
   ]
  },
  {
   "cell_type": "code",
   "execution_count": 19,
   "metadata": {
    "id": "g_DTYt8G3k0q"
   },
   "outputs": [],
   "source": [
    "import matplotlib.pyplot as plt\n",
    "import seaborn as sns"
   ]
  },
  {
   "cell_type": "code",
   "execution_count": 20,
   "metadata": {
    "colab": {
     "base_uri": "https://localhost:8080/",
     "height": 279
    },
    "id": "pRtl7ZOF4Cq-",
    "outputId": "f770931a-9e29-4b2f-8fe3-76e269f77f58"
   },
   "outputs": [
    {
     "data": {
      "image/png": "[encoded data removed]",
      "text/plain": [
       "<Figure size 640x480 with 1 Axes>"
      ]
     },
     "metadata": {},
     "output_type": "display_data"
    }
   ],
   "source": [
    "sns.scatterplot(x=\"Price\", y=\"Year of release\", data=df2);"
   ]
  },
  {
   "cell_type": "code",
   "execution_count": 89,
   "metadata": {
    "colab": {
     "base_uri": "https://localhost:8080/",
     "height": 369
    },
    "id": "UwiNljl94P2D",
    "outputId": "5739c6ef-a226-43ee-dca3-e81b975f8da6"
   },
   "outputs": [
    {
     "data": {
      "image/png": "[encoded data removed]",
      "text/plain": [
       "<Figure size 360x360 with 1 Axes>"
      ]
     },
     "metadata": {
      "needs_background": "light"
     },
     "output_type": "display_data"
    }
   ],
   "source": [
    "sns.lmplot(x=\"Year of release\", y=\"Rating\", data=df2);"
   ]
  },
  {
   "cell_type": "code",
   "execution_count": 109,
   "metadata": {
    "colab": {
     "base_uri": "https://localhost:8080/",
     "height": 337
    },
    "id": "XeW9hS7s8AJ3",
    "outputId": "a5a643de-7463-41ba-b2e4-1c211ad7bb22"
   },
   "outputs": [
    {
     "data": {
      "text/plain": [
       "<BarContainer object of 190 artists>"
      ]
     },
     "execution_count": 109,
     "metadata": {},
     "output_type": "execute_result"
    },
    {
     "data": {
      "image/png": "[encoded data removed]",
      "text/plain": [
       "<Figure size 720x360 with 1 Axes>"
      ]
     },
     "metadata": {
      "needs_background": "light"
     },
     "output_type": "display_data"
    }
   ],
   "source": [
    "fig = plt.figure(figsize = (10, 5))\n",
    "plt.bar(df2['Rating'], df2['Price'], color ='maroon', width = 0.4)"
   ]
  },
  {
   "cell_type": "code",
   "execution_count": 92,
   "metadata": {
    "colab": {
     "base_uri": "https://localhost:8080/",
     "height": 269
    },
    "id": "w_riBlJP4fzw",
    "outputId": "7c06f520-7463-4559-b2c8-6eb88e5fa644"
   },
   "outputs": [
    {
     "data": {
      "image/png": "[encoded data removed]",
      "text/plain": [
       "<Figure size 432x288 with 2 Axes>"
      ]
     },
     "metadata": {
      "needs_background": "light"
     },
     "output_type": "display_data"
    }
   ],
   "source": [
    "cormap = df2.corr()\n",
    "sns.heatmap(cormap);"
   ]
  },
  {
   "cell_type": "markdown",
   "metadata": {
    "id": "WM0VSnoz3XuN"
   },
   "source": [
    "# **model**"
   ]
  },
  {
   "cell_type": "code",
   "execution_count": 16,
   "metadata": {
    "id": "PDbCsXzbtELG"
   },
   "outputs": [],
   "source": [
    "X = df2[['Year of release', 'Rating']]\n",
    "y = df2['Price']"
   ]
  },
  {
   "cell_type": "code",
   "execution_count": null,
   "metadata": {
    "id": "Gx9YLw7LfPI8"
   },
   "outputs": [],
   "source": [
    "X_train, X_test, y_train, y_test = train_test_split(X, y, test_size = 0.4, random_state=1, shuffle=True)\n",
    "print(X_train)\n",
    "print(X_test)\n",
    "print(y_train)\n",
    "print(y_test)"
   ]
  },
  {
   "cell_type": "code",
   "execution_count": 41,
   "metadata": {
    "colab": {
     "base_uri": "https://localhost:8080/"
    },
    "id": "DO25HlEdgALS",
    "outputId": "ecd731e5-7b7c-452f-a8af-7aad4ec7a5af"
   },
   "outputs": [
    {
     "name": "stdout",
     "output_type": "stream",
     "text": [
      "(114, 2)\n",
      "(76, 2)\n",
      "(114,)\n",
      "(76,)\n"
     ]
    }
   ],
   "source": [
    "print(X_train.shape)\n",
    "print(X_test.shape)\n",
    "print(y_train.shape)\n",
    "print(y_test.shape) visua"
   ]
  },
  {
   "cell_type": "code",
   "execution_count": 53,
   "metadata": {
    "colab": {
     "base_uri": "https://localhost:8080/"
    },
    "id": "NkiSo3EnguOT",
    "outputId": "8ad0f0e7-6431-468f-ffb2-72cba8f497a7"
   },
   "outputs": [
    {
     "data": {
      "text/plain": [
       "LinearRegression()"
      ]
     },
     "execution_count": 53,
     "metadata": {},
     "output_type": "execute_result"
    }
   ],
   "source": [
    "regressor = LinearRegression()\n",
    "regressor.fit(X_train, y_train)"
   ]
  },
  {
   "cell_type": "code",
   "execution_count": 54,
   "metadata": {
    "colab": {
     "base_uri": "https://localhost:8080/"
    },
    "id": "sOoZbBSOpv10",
    "outputId": "bff3e8a8-f221-4474-d0c1-390616010e80"
   },
   "outputs": [
    {
     "data": {
      "text/plain": [
       "-990938.1729750719"
      ]
     },
     "execution_count": 54,
     "metadata": {},
     "output_type": "execute_result"
    }
   ],
   "source": [
    "regressor.intercept_"
   ]
  },
  {
   "cell_type": "code",
   "execution_count": 55,
   "metadata": {
    "colab": {
     "base_uri": "https://localhost:8080/"
    },
    "id": "TsNMiuLOr84W",
    "outputId": "d330f282-620d-4cc4-e940-156e4d814b87"
   },
   "outputs": [
    {
     "data": {
      "text/plain": [
       "array([494.29562939, 501.81286231])"
      ]
     },
     "execution_count": 55,
     "metadata": {},
     "output_type": "execute_result"
    }
   ],
   "source": [
    "regressor.coef_"
   ]
  },
  {
   "cell_type": "code",
   "execution_count": 56,
   "metadata": {
    "id": "jfKPhXwAvGVc"
   },
   "outputs": [],
   "source": [
    "kf = KFold(n_splits=10)"
   ]
  },
  {
   "cell_type": "code",
   "execution_count": 57,
   "metadata": {
    "colab": {
     "base_uri": "https://localhost:8080/"
    },
    "id": "iImVOXNdvXPD",
    "outputId": "de594e6e-2018-4cf3-e794-ce73c4dc358b"
   },
   "outputs": [
    {
     "data": {
      "text/plain": [
       "array([-21428538.26643604, -21085944.09992542, -17303626.76846247,\n",
       "       -36967634.9242868 , -12421755.51851821, -65214977.56408069,\n",
       "       -40121565.8916954 , -14679469.86591561, -32753670.144492  ,\n",
       "       -48009639.85993418])"
      ]
     },
     "execution_count": 57,
     "metadata": {},
     "output_type": "execute_result"
    }
   ],
   "source": [
    "results = cross_val_score(regressor, X_train, y_train, scoring='neg_mean_squared_error', cv=kf)\n",
    "results"
   ]
  },
  {
   "cell_type": "code",
   "execution_count": 80,
   "metadata": {
    "colab": {
     "base_uri": "https://localhost:8080/",
     "height": 363
    },
    "id": "MGqRcd34xL-6",
    "outputId": "3e90916e-64f8-454f-a1e2-646a66cf4422"
   },
   "outputs": [
    {
     "data": {
      "text/html": [
       "\n",
       "  <div id=\"df-168069bd-e183-41b8-8e0f-b2b08f77a9f4\">\n",
       "    <div class=\"colab-df-container\">\n",
       "      <div>\n",
       "<style scoped>\n",
       "    .dataframe tbody tr th:only-of-type {\n",
       "        vertical-align: middle;\n",
       "    }\n",
       "\n",
       "    .dataframe tbody tr th {\n",
       "        vertical-align: top;\n",
       "    }\n",
       "\n",
       "    .dataframe thead th {\n",
       "        text-align: right;\n",
       "    }\n",
       "</style>\n",
       "<table border=\"1\" class=\"dataframe\">\n",
       "  <thead>\n",
       "    <tr style=\"text-align: right;\">\n",
       "      <th></th>\n",
       "      <th>Price</th>\n",
       "    </tr>\n",
       "  </thead>\n",
       "  <tbody>\n",
       "    <tr>\n",
       "      <th>0</th>\n",
       "      <td>8306.752145</td>\n",
       "    </tr>\n",
       "    <tr>\n",
       "      <th>1</th>\n",
       "      <td>10233.753376</td>\n",
       "    </tr>\n",
       "    <tr>\n",
       "      <th>2</th>\n",
       "      <td>10534.841094</td>\n",
       "    </tr>\n",
       "    <tr>\n",
       "      <th>3</th>\n",
       "      <td>9001.772919</td>\n",
       "    </tr>\n",
       "    <tr>\n",
       "      <th>4</th>\n",
       "      <td>9940.182892</td>\n",
       "    </tr>\n",
       "    <tr>\n",
       "      <th>5</th>\n",
       "      <td>9252.679350</td>\n",
       "    </tr>\n",
       "    <tr>\n",
       "      <th>6</th>\n",
       "      <td>9152.316778</td>\n",
       "    </tr>\n",
       "    <tr>\n",
       "      <th>7</th>\n",
       "      <td>10627.686433</td>\n",
       "    </tr>\n",
       "    <tr>\n",
       "      <th>8</th>\n",
       "      <td>7963.000374</td>\n",
       "    </tr>\n",
       "    <tr>\n",
       "      <th>9</th>\n",
       "      <td>11330.224440</td>\n",
       "    </tr>\n",
       "  </tbody>\n",
       "</table>\n",
       "</div>\n",
       "      <button class=\"colab-df-convert\" onclick=\"convertToInteractive('df-168069bd-e183-41b8-8e0f-b2b08f77a9f4')\"\n",
       "              title=\"Convert this dataframe to an interactive table.\"\n",
       "              style=\"display:none;\">\n",
       "        \n",
       "  <svg xmlns=\"http://www.w3.org/2000/svg\" height=\"24px\"viewBox=\"0 0 24 24\"\n",
       "       width=\"24px\">\n",
       "    <path d=\"M0 0h24v24H0V0z\" fill=\"none\"/>\n",
       "    <path d=\"M18.56 5.44l.94 2.06.94-2.06 2.06-.94-2.06-.94-.94-2.06-.94 2.06-2.06.94zm-11 1L8.5 8.5l.94-2.06 2.06-.94-2.06-.94L8.5 2.5l-.94 2.06-2.06.94zm10 10l.94 2.06.94-2.06 2.06-.94-2.06-.94-.94-2.06-.94 2.06-2.06.94z\"/><path d=\"M17.41 7.96l-1.37-1.37c-.4-.4-.92-.59-1.43-.59-.52 0-1.04.2-1.43.59L10.3 9.45l-7.72 7.72c-.78.78-.78 2.05 0 2.83L4 21.41c.39.39.9.59 1.41.59.51 0 1.02-.2 1.41-.59l7.78-7.78 2.81-2.81c.8-.78.8-2.07 0-2.86zM5.41 20L4 18.59l7.72-7.72 1.47 1.35L5.41 20z\"/>\n",
       "  </svg>\n",
       "      </button>\n",
       "      \n",
       "  <style>\n",
       "    .colab-df-container {\n",
       "      display:flex;\n",
       "      flex-wrap:wrap;\n",
       "      gap: 12px;\n",
       "    }\n",
       "\n",
       "    .colab-df-convert {\n",
       "      background-color: #E8F0FE;\n",
       "      border: none;\n",
       "      border-radius: 50%;\n",
       "      cursor: pointer;\n",
       "      display: none;\n",
       "      fill: #1967D2;\n",
       "      height: 32px;\n",
       "      padding: 0 0 0 0;\n",
       "      width: 32px;\n",
       "    }\n",
       "\n",
       "    .colab-df-convert:hover {\n",
       "      background-color: #E2EBFA;\n",
       "      box-shadow: 0px 1px 2px rgba(60, 64, 67, 0.3), 0px 1px 3px 1px rgba(60, 64, 67, 0.15);\n",
       "      fill: #174EA6;\n",
       "    }\n",
       "\n",
       "    [theme=dark] .colab-df-convert {\n",
       "      background-color: #3B4455;\n",
       "      fill: #D2E3FC;\n",
       "    }\n",
       "\n",
       "    [theme=dark] .colab-df-convert:hover {\n",
       "      background-color: #434B5C;\n",
       "      box-shadow: 0px 1px 3px 1px rgba(0, 0, 0, 0.15);\n",
       "      filter: drop-shadow(0px 1px 2px rgba(0, 0, 0, 0.3));\n",
       "      fill: #FFFFFF;\n",
       "    }\n",
       "  </style>\n",
       "\n",
       "      <script>\n",
       "        const buttonEl =\n",
       "          document.querySelector('#df-168069bd-e183-41b8-8e0f-b2b08f77a9f4 button.colab-df-convert');\n",
       "        buttonEl.style.display =\n",
       "          google.colab.kernel.accessAllowed ? 'block' : 'none';\n",
       "\n",
       "        async function convertToInteractive(key) {\n",
       "          const element = document.querySelector('#df-168069bd-e183-41b8-8e0f-b2b08f77a9f4');\n",
       "          const dataTable =\n",
       "            await google.colab.kernel.invokeFunction('convertToInteractive',\n",
       "                                                     [key], {});\n",
       "          if (!dataTable) return;\n",
       "\n",
       "          const docLinkHtml = 'Like what you see? Visit the ' +\n",
       "            '<a target=\"_blank\" href=https://colab.research.google.com/notebooks/data_table.ipynb>data table notebook</a>'\n",
       "            + ' to learn more about interactive tables.';\n",
       "          element.innerHTML = '';\n",
       "          dataTable['output_type'] = 'display_data';\n",
       "          await google.colab.output.renderOutput(dataTable, element);\n",
       "          const docLink = document.createElement('div');\n",
       "          docLink.innerHTML = docLinkHtml;\n",
       "          element.appendChild(docLink);\n",
       "        }\n",
       "      </script>\n",
       "    </div>\n",
       "  </div>\n",
       "  "
      ],
      "text/plain": [
       "          Price\n",
       "0   8306.752145\n",
       "1  10233.753376\n",
       "2  10534.841094\n",
       "3   9001.772919\n",
       "4   9940.182892\n",
       "5   9252.679350\n",
       "6   9152.316778\n",
       "7  10627.686433\n",
       "8   7963.000374\n",
       "9  11330.224440"
      ]
     },
     "execution_count": 80,
     "metadata": {},
     "output_type": "execute_result"
    }
   ],
   "source": [
    "y_pred = regressor.predict(X_test)\n",
    "y_pred = pd.DataFrame(y_pred, columns=['Price'])\n",
    "y_pred.head(10)"
   ]
  },
  {
   "cell_type": "code",
   "execution_count": 96,
   "metadata": {
    "colab": {
     "base_uri": "https://localhost:8080/",
     "height": 424
    },
    "id": "LHXxsgXo5Fte",
    "outputId": "3b12993d-3757-46d0-f9ca-208f949f4ce3"
   },
   "outputs": [
    {
     "data": {
      "text/html": [
       "\n",
       "  <div id=\"df-4cbeadc2-3b63-4b52-811e-e87d4949a5f7\">\n",
       "    <div class=\"colab-df-container\">\n",
       "      <div>\n",
       "<style scoped>\n",
       "    .dataframe tbody tr th:only-of-type {\n",
       "        vertical-align: middle;\n",
       "    }\n",
       "\n",
       "    .dataframe tbody tr th {\n",
       "        vertical-align: top;\n",
       "    }\n",
       "\n",
       "    .dataframe thead th {\n",
       "        text-align: right;\n",
       "    }\n",
       "</style>\n",
       "<table border=\"1\" class=\"dataframe\">\n",
       "  <thead>\n",
       "    <tr style=\"text-align: right;\">\n",
       "      <th></th>\n",
       "      <th>Price</th>\n",
       "    </tr>\n",
       "  </thead>\n",
       "  <tbody>\n",
       "    <tr>\n",
       "      <th>31</th>\n",
       "      <td>11330</td>\n",
       "    </tr>\n",
       "    <tr>\n",
       "      <th>66</th>\n",
       "      <td>10193</td>\n",
       "    </tr>\n",
       "    <tr>\n",
       "      <th>112</th>\n",
       "      <td>11110</td>\n",
       "    </tr>\n",
       "    <tr>\n",
       "      <th>120</th>\n",
       "      <td>32408</td>\n",
       "    </tr>\n",
       "    <tr>\n",
       "      <th>81</th>\n",
       "      <td>5851</td>\n",
       "    </tr>\n",
       "    <tr>\n",
       "      <th>...</th>\n",
       "      <td>...</td>\n",
       "    </tr>\n",
       "    <tr>\n",
       "      <th>145</th>\n",
       "      <td>4387</td>\n",
       "    </tr>\n",
       "    <tr>\n",
       "      <th>184</th>\n",
       "      <td>14103</td>\n",
       "    </tr>\n",
       "    <tr>\n",
       "      <th>103</th>\n",
       "      <td>11496</td>\n",
       "    </tr>\n",
       "    <tr>\n",
       "      <th>116</th>\n",
       "      <td>15546</td>\n",
       "    </tr>\n",
       "    <tr>\n",
       "      <th>13</th>\n",
       "      <td>26728</td>\n",
       "    </tr>\n",
       "  </tbody>\n",
       "</table>\n",
       "<p>76 rows × 1 columns</p>\n",
       "</div>\n",
       "      <button class=\"colab-df-convert\" onclick=\"convertToInteractive('df-4cbeadc2-3b63-4b52-811e-e87d4949a5f7')\"\n",
       "              title=\"Convert this dataframe to an interactive table.\"\n",
       "              style=\"display:none;\">\n",
       "        \n",
       "  <svg xmlns=\"http://www.w3.org/2000/svg\" height=\"24px\"viewBox=\"0 0 24 24\"\n",
       "       width=\"24px\">\n",
       "    <path d=\"M0 0h24v24H0V0z\" fill=\"none\"/>\n",
       "    <path d=\"M18.56 5.44l.94 2.06.94-2.06 2.06-.94-2.06-.94-.94-2.06-.94 2.06-2.06.94zm-11 1L8.5 8.5l.94-2.06 2.06-.94-2.06-.94L8.5 2.5l-.94 2.06-2.06.94zm10 10l.94 2.06.94-2.06 2.06-.94-2.06-.94-.94-2.06-.94 2.06-2.06.94z\"/><path d=\"M17.41 7.96l-1.37-1.37c-.4-.4-.92-.59-1.43-.59-.52 0-1.04.2-1.43.59L10.3 9.45l-7.72 7.72c-.78.78-.78 2.05 0 2.83L4 21.41c.39.39.9.59 1.41.59.51 0 1.02-.2 1.41-.59l7.78-7.78 2.81-2.81c.8-.78.8-2.07 0-2.86zM5.41 20L4 18.59l7.72-7.72 1.47 1.35L5.41 20z\"/>\n",
       "  </svg>\n",
       "      </button>\n",
       "      \n",
       "  <style>\n",
       "    .colab-df-container {\n",
       "      display:flex;\n",
       "      flex-wrap:wrap;\n",
       "      gap: 12px;\n",
       "    }\n",
       "\n",
       "    .colab-df-convert {\n",
       "      background-color: #E8F0FE;\n",
       "      border: none;\n",
       "      border-radius: 50%;\n",
       "      cursor: pointer;\n",
       "      display: none;\n",
       "      fill: #1967D2;\n",
       "      height: 32px;\n",
       "      padding: 0 0 0 0;\n",
       "      width: 32px;\n",
       "    }\n",
       "\n",
       "    .colab-df-convert:hover {\n",
       "      background-color: #E2EBFA;\n",
       "      box-shadow: 0px 1px 2px rgba(60, 64, 67, 0.3), 0px 1px 3px 1px rgba(60, 64, 67, 0.15);\n",
       "      fill: #174EA6;\n",
       "    }\n",
       "\n",
       "    [theme=dark] .colab-df-convert {\n",
       "      background-color: #3B4455;\n",
       "      fill: #D2E3FC;\n",
       "    }\n",
       "\n",
       "    [theme=dark] .colab-df-convert:hover {\n",
       "      background-color: #434B5C;\n",
       "      box-shadow: 0px 1px 3px 1px rgba(0, 0, 0, 0.15);\n",
       "      filter: drop-shadow(0px 1px 2px rgba(0, 0, 0, 0.3));\n",
       "      fill: #FFFFFF;\n",
       "    }\n",
       "  </style>\n",
       "\n",
       "      <script>\n",
       "        const buttonEl =\n",
       "          document.querySelector('#df-4cbeadc2-3b63-4b52-811e-e87d4949a5f7 button.colab-df-convert');\n",
       "        buttonEl.style.display =\n",
       "          google.colab.kernel.accessAllowed ? 'block' : 'none';\n",
       "\n",
       "        async function convertToInteractive(key) {\n",
       "          const element = document.querySelector('#df-4cbeadc2-3b63-4b52-811e-e87d4949a5f7');\n",
       "          const dataTable =\n",
       "            await google.colab.kernel.invokeFunction('convertToInteractive',\n",
       "                                                     [key], {});\n",
       "          if (!dataTable) return;\n",
       "\n",
       "          const docLinkHtml = 'Like what you see? Visit the ' +\n",
       "            '<a target=\"_blank\" href=https://colab.research.google.com/notebooks/data_table.ipynb>data table notebook</a>'\n",
       "            + ' to learn more about interactive tables.';\n",
       "          element.innerHTML = '';\n",
       "          dataTable['output_type'] = 'display_data';\n",
       "          await google.colab.output.renderOutput(dataTable, element);\n",
       "          const docLink = document.createElement('div');\n",
       "          docLink.innerHTML = docLinkHtml;\n",
       "          element.appendChild(docLink);\n",
       "        }\n",
       "      </script>\n",
       "    </div>\n",
       "  </div>\n",
       "  "
      ],
      "text/plain": [
       "     Price\n",
       "31   11330\n",
       "66   10193\n",
       "112  11110\n",
       "120  32408\n",
       "81    5851\n",
       "..     ...\n",
       "145   4387\n",
       "184  14103\n",
       "103  11496\n",
       "116  15546\n",
       "13   26728\n",
       "\n",
       "[76 rows x 1 columns]"
      ]
     },
     "execution_count": 96,
     "metadata": {},
     "output_type": "execute_result"
    }
   ],
   "source": [
    "test_df = pd.DataFrame(y_test)\n",
    "test_df"
   ]
  }
 ],
 "metadata": {
  "colab": {
   "provenance": []
  },
  "kernelspec": {
   "display_name": "Python 3 (ipykernel)",
   "language": "python",
   "name": "python3"
  },
  "language_info": {
   "codemirror_mode": {
    "name": "ipython",
    "version": 3
   },
   "file_extension": ".py",
   "mimetype": "text/x-python",
   "name": "python",
   "nbconvert_exporter": "python",
   "pygments_lexer": "ipython3",
   "version": "3.7.15"
  }
 },
 "nbformat": 4,
 "nbformat_minor": 1
}
