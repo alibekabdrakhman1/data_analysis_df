{
 "cells": [
  {
   "cell_type": "code",
   "execution_count": 53,
   "metadata": {
    "id": "31hYX1vwqGiG"
   },
   "outputs": [],
   "source": [
    "import pandas as pd\n",
    "import numpy as np\n",
    "from sklearn.preprocessing import StandardScaler\n",
    "from sklearn.model_selection import train_test_split\n",
    "from sklearn.linear_model import LinearRegression\n",
    "from sklearn.model_selection import KFold, cross_val_score"
   ]
  },
  {
   "cell_type": "markdown",
   "metadata": {
    "id": "ail3shl3_SUT"
   },
   "source": [
    "# **Data Research**"
   ]
  },
  {
   "cell_type": "code",
   "execution_count": 54,
   "metadata": {
    "colab": {
     "base_uri": "https://localhost:8080/",
     "height": 424
    },
    "id": "oFDkWp3aponU",
    "outputId": "f20c1dfd-5c7b-4d5e-d292-2e5d26e297d8"
   },
   "outputs": [
    {
     "data": {
      "text/html": [
       "<div>\n",
       "<style scoped>\n",
       "    .dataframe tbody tr th:only-of-type {\n",
       "        vertical-align: middle;\n",
       "    }\n",
       "\n",
       "    .dataframe tbody tr th {\n",
       "        vertical-align: top;\n",
       "    }\n",
       "\n",
       "    .dataframe thead th {\n",
       "        text-align: right;\n",
       "    }\n",
       "</style>\n",
       "<table border=\"1\" class=\"dataframe\">\n",
       "  <thead>\n",
       "    <tr style=\"text-align: right;\">\n",
       "      <th></th>\n",
       "      <th>Unnamed: 0</th>\n",
       "      <th>Name of book</th>\n",
       "      <th>Year of relase</th>\n",
       "      <th>Price</th>\n",
       "      <th>Category</th>\n",
       "      <th>Rating</th>\n",
       "    </tr>\n",
       "  </thead>\n",
       "  <tbody>\n",
       "    <tr>\n",
       "      <th>0</th>\n",
       "      <td>0</td>\n",
       "      <td>Грокаем алгоритмы</td>\n",
       "      <td>2022.0</td>\n",
       "      <td>6 571</td>\n",
       "      <td>Питер, Прогресс книга, Библиотека программиста</td>\n",
       "      <td>4.7</td>\n",
       "    </tr>\n",
       "    <tr>\n",
       "      <th>1</th>\n",
       "      <td>1</td>\n",
       "      <td>Чистый код. Создание, анализ и рефакторинг</td>\n",
       "      <td>2019.0</td>\n",
       "      <td>4 951</td>\n",
       "      <td>Питер</td>\n",
       "      <td>3.0</td>\n",
       "    </tr>\n",
       "    <tr>\n",
       "      <th>2</th>\n",
       "      <td>2</td>\n",
       "      <td>Java. Руководство для начинающих</td>\n",
       "      <td>2019.0</td>\n",
       "      <td>26 728</td>\n",
       "      <td>Вильямс, Диалектика / Вильямс</td>\n",
       "      <td>4.0</td>\n",
       "    </tr>\n",
       "    <tr>\n",
       "      <th>3</th>\n",
       "      <td>3</td>\n",
       "      <td>System Design. Подготовка к сложному интервью</td>\n",
       "      <td>2022.0</td>\n",
       "      <td>7 666</td>\n",
       "      <td>Прогресс книга, Питер, Библиотека программиста</td>\n",
       "      <td>4.5</td>\n",
       "    </tr>\n",
       "    <tr>\n",
       "      <th>4</th>\n",
       "      <td>4</td>\n",
       "      <td>Разработка требований</td>\n",
       "      <td>2021.0</td>\n",
       "      <td>12 296</td>\n",
       "      <td>БХВ-Петербург, BHV</td>\n",
       "      <td>4.7</td>\n",
       "    </tr>\n",
       "    <tr>\n",
       "      <th>...</th>\n",
       "      <td>...</td>\n",
       "      <td>...</td>\n",
       "      <td>...</td>\n",
       "      <td>...</td>\n",
       "      <td>...</td>\n",
       "      <td>...</td>\n",
       "    </tr>\n",
       "    <tr>\n",
       "      <th>235</th>\n",
       "      <td>235</td>\n",
       "      <td>Проектирование в AutoCad</td>\n",
       "      <td>2021.0</td>\n",
       "      <td>5 594</td>\n",
       "      <td>МГТУ им. Баумана</td>\n",
       "      <td>4.2</td>\n",
       "    </tr>\n",
       "    <tr>\n",
       "      <th>236</th>\n",
       "      <td>236</td>\n",
       "      <td>Структуры данных в С++</td>\n",
       "      <td>2020.0</td>\n",
       "      <td>5 240</td>\n",
       "      <td>МГТУ им. Баумана</td>\n",
       "      <td>4.4</td>\n",
       "    </tr>\n",
       "    <tr>\n",
       "      <th>237</th>\n",
       "      <td>237</td>\n",
       "      <td>Детям об интернете</td>\n",
       "      <td>2020.0</td>\n",
       "      <td>2 197</td>\n",
       "      <td>Белорусская Православная Церковь</td>\n",
       "      <td>4.4</td>\n",
       "    </tr>\n",
       "    <tr>\n",
       "      <th>238</th>\n",
       "      <td>238</td>\n",
       "      <td>JavaScript. Как писать программы</td>\n",
       "      <td>2022.0</td>\n",
       "      <td>22 492</td>\n",
       "      <td>Лань, Компьютеры и программное обеспечение</td>\n",
       "      <td>4.6</td>\n",
       "    </tr>\n",
       "    <tr>\n",
       "      <th>239</th>\n",
       "      <td>239</td>\n",
       "      <td>Защита информации</td>\n",
       "      <td>2021.0</td>\n",
       "      <td>15 005</td>\n",
       "      <td>РИОР, Высшее образование</td>\n",
       "      <td>3.4</td>\n",
       "    </tr>\n",
       "  </tbody>\n",
       "</table>\n",
       "<p>240 rows × 6 columns</p>\n",
       "</div>"
      ],
      "text/plain": [
       "     Unnamed: 0                                   Name of book  \\\n",
       "0             0                              Грокаем алгоритмы   \n",
       "1             1     Чистый код. Создание, анализ и рефакторинг   \n",
       "2             2               Java. Руководство для начинающих   \n",
       "3             3  System Design. Подготовка к сложному интервью   \n",
       "4             4                          Разработка требований   \n",
       "..          ...                                            ...   \n",
       "235         235                       Проектирование в AutoCad   \n",
       "236         236                         Структуры данных в С++   \n",
       "237         237                             Детям об интернете   \n",
       "238         238               JavaScript. Как писать программы   \n",
       "239         239                              Защита информации   \n",
       "\n",
       "     Year of relase   Price                                        Category  \\\n",
       "0            2022.0   6 571  Питер, Прогресс книга, Библиотека программиста   \n",
       "1            2019.0   4 951                                           Питер   \n",
       "2            2019.0  26 728                   Вильямс, Диалектика / Вильямс   \n",
       "3            2022.0   7 666  Прогресс книга, Питер, Библиотека программиста   \n",
       "4            2021.0  12 296                              БХВ-Петербург, BHV   \n",
       "..              ...     ...                                             ...   \n",
       "235          2021.0   5 594                                МГТУ им. Баумана   \n",
       "236          2020.0   5 240                                МГТУ им. Баумана   \n",
       "237          2020.0   2 197                Белорусская Православная Церковь   \n",
       "238          2022.0  22 492      Лань, Компьютеры и программное обеспечение   \n",
       "239          2021.0  15 005                        РИОР, Высшее образование   \n",
       "\n",
       "     Rating  \n",
       "0       4.7  \n",
       "1       3.0  \n",
       "2       4.0  \n",
       "3       4.5  \n",
       "4       4.7  \n",
       "..      ...  \n",
       "235     4.2  \n",
       "236     4.4  \n",
       "237     4.4  \n",
       "238     4.6  \n",
       "239     3.4  \n",
       "\n",
       "[240 rows x 6 columns]"
      ]
     },
     "execution_count": 54,
     "metadata": {},
     "output_type": "execute_result"
    }
   ],
   "source": [
    "df = pd.read_csv('flip.csv', index_col=False)\n",
    "df"
   ]
  },
  {
   "cell_type": "code",
   "execution_count": 55,
   "metadata": {
    "colab": {
     "base_uri": "https://localhost:8080/"
    },
    "id": "d8hEpHXHprag",
    "outputId": "96603426-5cdc-4042-99f6-95f188bae1e8"
   },
   "outputs": [
    {
     "name": "stdout",
     "output_type": "stream",
     "text": [
      "<class 'pandas.core.frame.DataFrame'>\n",
      "RangeIndex: 240 entries, 0 to 239\n",
      "Data columns (total 6 columns):\n",
      " #   Column          Non-Null Count  Dtype  \n",
      "---  ------          --------------  -----  \n",
      " 0   Unnamed: 0      240 non-null    int64  \n",
      " 1   Name of book    240 non-null    object \n",
      " 2   Year of relase  239 non-null    float64\n",
      " 3   Price           240 non-null    object \n",
      " 4   Category        240 non-null    object \n",
      " 5   Rating          240 non-null    float64\n",
      "dtypes: float64(2), int64(1), object(3)\n",
      "memory usage: 11.4+ KB\n"
     ]
    }
   ],
   "source": [
    "df.info()"
   ]
  },
  {
   "cell_type": "code",
   "execution_count": 56,
   "metadata": {
    "colab": {
     "base_uri": "https://localhost:8080/",
     "height": 301
    },
    "id": "PdVSQDPh_lDP",
    "outputId": "98fba0b2-dd51-49a2-c618-bae3c5f87cbc"
   },
   "outputs": [
    {
     "data": {
      "text/html": [
       "<div>\n",
       "<style scoped>\n",
       "    .dataframe tbody tr th:only-of-type {\n",
       "        vertical-align: middle;\n",
       "    }\n",
       "\n",
       "    .dataframe tbody tr th {\n",
       "        vertical-align: top;\n",
       "    }\n",
       "\n",
       "    .dataframe thead th {\n",
       "        text-align: right;\n",
       "    }\n",
       "</style>\n",
       "<table border=\"1\" class=\"dataframe\">\n",
       "  <thead>\n",
       "    <tr style=\"text-align: right;\">\n",
       "      <th></th>\n",
       "      <th>Unnamed: 0</th>\n",
       "      <th>Year of relase</th>\n",
       "      <th>Rating</th>\n",
       "    </tr>\n",
       "  </thead>\n",
       "  <tbody>\n",
       "    <tr>\n",
       "      <th>count</th>\n",
       "      <td>240.00000</td>\n",
       "      <td>239.000000</td>\n",
       "      <td>240.000000</td>\n",
       "    </tr>\n",
       "    <tr>\n",
       "      <th>mean</th>\n",
       "      <td>119.50000</td>\n",
       "      <td>2020.451883</td>\n",
       "      <td>4.030417</td>\n",
       "    </tr>\n",
       "    <tr>\n",
       "      <th>std</th>\n",
       "      <td>69.42622</td>\n",
       "      <td>2.321978</td>\n",
       "      <td>0.602325</td>\n",
       "    </tr>\n",
       "    <tr>\n",
       "      <th>min</th>\n",
       "      <td>0.00000</td>\n",
       "      <td>2009.000000</td>\n",
       "      <td>3.000000</td>\n",
       "    </tr>\n",
       "    <tr>\n",
       "      <th>25%</th>\n",
       "      <td>59.75000</td>\n",
       "      <td>2019.000000</td>\n",
       "      <td>3.500000</td>\n",
       "    </tr>\n",
       "    <tr>\n",
       "      <th>50%</th>\n",
       "      <td>119.50000</td>\n",
       "      <td>2021.000000</td>\n",
       "      <td>4.000000</td>\n",
       "    </tr>\n",
       "    <tr>\n",
       "      <th>75%</th>\n",
       "      <td>179.25000</td>\n",
       "      <td>2022.000000</td>\n",
       "      <td>4.600000</td>\n",
       "    </tr>\n",
       "    <tr>\n",
       "      <th>max</th>\n",
       "      <td>239.00000</td>\n",
       "      <td>2023.000000</td>\n",
       "      <td>5.000000</td>\n",
       "    </tr>\n",
       "  </tbody>\n",
       "</table>\n",
       "</div>"
      ],
      "text/plain": [
       "       Unnamed: 0  Year of relase      Rating\n",
       "count   240.00000      239.000000  240.000000\n",
       "mean    119.50000     2020.451883    4.030417\n",
       "std      69.42622        2.321978    0.602325\n",
       "min       0.00000     2009.000000    3.000000\n",
       "25%      59.75000     2019.000000    3.500000\n",
       "50%     119.50000     2021.000000    4.000000\n",
       "75%     179.25000     2022.000000    4.600000\n",
       "max     239.00000     2023.000000    5.000000"
      ]
     },
     "execution_count": 56,
     "metadata": {},
     "output_type": "execute_result"
    }
   ],
   "source": [
    "df.describe()"
   ]
  },
  {
   "cell_type": "code",
   "execution_count": 57,
   "metadata": {
    "colab": {
     "base_uri": "https://localhost:8080/"
    },
    "id": "t_Hxy44RqiSL",
    "outputId": "0890d33c-9a2f-4a14-c399-369f6c5f5706"
   },
   "outputs": [
    {
     "data": {
      "text/plain": [
       "Unnamed: 0        0\n",
       "Name of book      0\n",
       "Year of relase    1\n",
       "Price             0\n",
       "Category          0\n",
       "Rating            0\n",
       "dtype: int64"
      ]
     },
     "execution_count": 57,
     "metadata": {},
     "output_type": "execute_result"
    }
   ],
   "source": [
    "df.isnull().sum()"
   ]
  },
  {
   "cell_type": "code",
   "execution_count": 58,
   "metadata": {
    "id": "7sAZHq9Zqc44"
   },
   "outputs": [],
   "source": [
    "df.rename(columns = {'Unnamed: 0':'Id', 'Year of relase':'Year of release'}, inplace = True)"
   ]
  },
  {
   "cell_type": "markdown",
   "metadata": {
    "id": "P6OG7iEv_rBV"
   },
   "source": [
    "# **Data Cleaning**"
   ]
  },
  {
   "cell_type": "code",
   "execution_count": 59,
   "metadata": {
    "colab": {
     "base_uri": "https://localhost:8080/"
    },
    "id": "qpvF4DswrGIZ",
    "outputId": "9e9e4231-db10-4a8b-9003-0a5e30344f5a"
   },
   "outputs": [
    {
     "data": {
      "text/plain": [
       "Index(['Id', 'Name of book', 'Year of release', 'Price', 'Category', 'Rating'], dtype='object')"
      ]
     },
     "execution_count": 59,
     "metadata": {},
     "output_type": "execute_result"
    }
   ],
   "source": [
    "df.columns"
   ]
  },
  {
   "cell_type": "code",
   "execution_count": 60,
   "metadata": {
    "id": "wteba_TcsJ2B"
   },
   "outputs": [],
   "source": [
    "df1 = df.copy()"
   ]
  },
  {
   "cell_type": "code",
   "execution_count": 61,
   "metadata": {
    "colab": {
     "base_uri": "https://localhost:8080/",
     "height": 424
    },
    "id": "PH9JhzuHr5Co",
    "outputId": "30a377e1-7c8f-4c46-90ef-d32cfbcc1074"
   },
   "outputs": [
    {
     "data": {
      "text/html": [
       "<div>\n",
       "<style scoped>\n",
       "    .dataframe tbody tr th:only-of-type {\n",
       "        vertical-align: middle;\n",
       "    }\n",
       "\n",
       "    .dataframe tbody tr th {\n",
       "        vertical-align: top;\n",
       "    }\n",
       "\n",
       "    .dataframe thead th {\n",
       "        text-align: right;\n",
       "    }\n",
       "</style>\n",
       "<table border=\"1\" class=\"dataframe\">\n",
       "  <thead>\n",
       "    <tr style=\"text-align: right;\">\n",
       "      <th></th>\n",
       "      <th>Id</th>\n",
       "      <th>Name of book</th>\n",
       "      <th>Year of release</th>\n",
       "      <th>Price</th>\n",
       "      <th>Category</th>\n",
       "      <th>Rating</th>\n",
       "    </tr>\n",
       "  </thead>\n",
       "  <tbody>\n",
       "    <tr>\n",
       "      <th>0</th>\n",
       "      <td>1</td>\n",
       "      <td>Грокаем алгоритмы</td>\n",
       "      <td>2022.0</td>\n",
       "      <td>6 571</td>\n",
       "      <td>Питер, Прогресс книга, Библиотека программиста</td>\n",
       "      <td>4.7</td>\n",
       "    </tr>\n",
       "    <tr>\n",
       "      <th>1</th>\n",
       "      <td>2</td>\n",
       "      <td>Чистый код. Создание, анализ и рефакторинг</td>\n",
       "      <td>2019.0</td>\n",
       "      <td>4 951</td>\n",
       "      <td>Питер</td>\n",
       "      <td>3.0</td>\n",
       "    </tr>\n",
       "    <tr>\n",
       "      <th>2</th>\n",
       "      <td>3</td>\n",
       "      <td>Java. Руководство для начинающих</td>\n",
       "      <td>2019.0</td>\n",
       "      <td>26 728</td>\n",
       "      <td>Вильямс, Диалектика / Вильямс</td>\n",
       "      <td>4.0</td>\n",
       "    </tr>\n",
       "    <tr>\n",
       "      <th>3</th>\n",
       "      <td>4</td>\n",
       "      <td>System Design. Подготовка к сложному интервью</td>\n",
       "      <td>2022.0</td>\n",
       "      <td>7 666</td>\n",
       "      <td>Прогресс книга, Питер, Библиотека программиста</td>\n",
       "      <td>4.5</td>\n",
       "    </tr>\n",
       "    <tr>\n",
       "      <th>4</th>\n",
       "      <td>5</td>\n",
       "      <td>Разработка требований</td>\n",
       "      <td>2021.0</td>\n",
       "      <td>12 296</td>\n",
       "      <td>БХВ-Петербург, BHV</td>\n",
       "      <td>4.7</td>\n",
       "    </tr>\n",
       "    <tr>\n",
       "      <th>...</th>\n",
       "      <td>...</td>\n",
       "      <td>...</td>\n",
       "      <td>...</td>\n",
       "      <td>...</td>\n",
       "      <td>...</td>\n",
       "      <td>...</td>\n",
       "    </tr>\n",
       "    <tr>\n",
       "      <th>235</th>\n",
       "      <td>236</td>\n",
       "      <td>Проектирование в AutoCad</td>\n",
       "      <td>2021.0</td>\n",
       "      <td>5 594</td>\n",
       "      <td>МГТУ им. Баумана</td>\n",
       "      <td>4.2</td>\n",
       "    </tr>\n",
       "    <tr>\n",
       "      <th>236</th>\n",
       "      <td>237</td>\n",
       "      <td>Структуры данных в С++</td>\n",
       "      <td>2020.0</td>\n",
       "      <td>5 240</td>\n",
       "      <td>МГТУ им. Баумана</td>\n",
       "      <td>4.4</td>\n",
       "    </tr>\n",
       "    <tr>\n",
       "      <th>237</th>\n",
       "      <td>238</td>\n",
       "      <td>Детям об интернете</td>\n",
       "      <td>2020.0</td>\n",
       "      <td>2 197</td>\n",
       "      <td>Белорусская Православная Церковь</td>\n",
       "      <td>4.4</td>\n",
       "    </tr>\n",
       "    <tr>\n",
       "      <th>238</th>\n",
       "      <td>239</td>\n",
       "      <td>JavaScript. Как писать программы</td>\n",
       "      <td>2022.0</td>\n",
       "      <td>22 492</td>\n",
       "      <td>Лань, Компьютеры и программное обеспечение</td>\n",
       "      <td>4.6</td>\n",
       "    </tr>\n",
       "    <tr>\n",
       "      <th>239</th>\n",
       "      <td>240</td>\n",
       "      <td>Защита информации</td>\n",
       "      <td>2021.0</td>\n",
       "      <td>15 005</td>\n",
       "      <td>РИОР, Высшее образование</td>\n",
       "      <td>3.4</td>\n",
       "    </tr>\n",
       "  </tbody>\n",
       "</table>\n",
       "<p>240 rows × 6 columns</p>\n",
       "</div>"
      ],
      "text/plain": [
       "      Id                                   Name of book  Year of release  \\\n",
       "0      1                              Грокаем алгоритмы           2022.0   \n",
       "1      2     Чистый код. Создание, анализ и рефакторинг           2019.0   \n",
       "2      3               Java. Руководство для начинающих           2019.0   \n",
       "3      4  System Design. Подготовка к сложному интервью           2022.0   \n",
       "4      5                          Разработка требований           2021.0   \n",
       "..   ...                                            ...              ...   \n",
       "235  236                       Проектирование в AutoCad           2021.0   \n",
       "236  237                         Структуры данных в С++           2020.0   \n",
       "237  238                             Детям об интернете           2020.0   \n",
       "238  239               JavaScript. Как писать программы           2022.0   \n",
       "239  240                              Защита информации           2021.0   \n",
       "\n",
       "      Price                                        Category  Rating  \n",
       "0     6 571  Питер, Прогресс книга, Библиотека программиста     4.7  \n",
       "1     4 951                                           Питер     3.0  \n",
       "2    26 728                   Вильямс, Диалектика / Вильямс     4.0  \n",
       "3     7 666  Прогресс книга, Питер, Библиотека программиста     4.5  \n",
       "4    12 296                              БХВ-Петербург, BHV     4.7  \n",
       "..      ...                                             ...     ...  \n",
       "235   5 594                                МГТУ им. Баумана     4.2  \n",
       "236   5 240                                МГТУ им. Баумана     4.4  \n",
       "237   2 197                Белорусская Православная Церковь     4.4  \n",
       "238  22 492      Лань, Компьютеры и программное обеспечение     4.6  \n",
       "239  15 005                        РИОР, Высшее образование     3.4  \n",
       "\n",
       "[240 rows x 6 columns]"
      ]
     },
     "execution_count": 61,
     "metadata": {},
     "output_type": "execute_result"
    }
   ],
   "source": [
    "df1['Id'] = df1['Id'] + 1\n",
    "df1"
   ]
  },
  {
   "cell_type": "code",
   "execution_count": 62,
   "metadata": {
    "colab": {
     "base_uri": "https://localhost:8080/",
     "height": 424
    },
    "id": "huxV3uY7s4IC",
    "outputId": "bb4e06ad-1677-4257-847b-c1f93e602bac"
   },
   "outputs": [
    {
     "data": {
      "text/html": [
       "<div>\n",
       "<style scoped>\n",
       "    .dataframe tbody tr th:only-of-type {\n",
       "        vertical-align: middle;\n",
       "    }\n",
       "\n",
       "    .dataframe tbody tr th {\n",
       "        vertical-align: top;\n",
       "    }\n",
       "\n",
       "    .dataframe thead th {\n",
       "        text-align: right;\n",
       "    }\n",
       "</style>\n",
       "<table border=\"1\" class=\"dataframe\">\n",
       "  <thead>\n",
       "    <tr style=\"text-align: right;\">\n",
       "      <th></th>\n",
       "      <th>Id</th>\n",
       "      <th>Name of book</th>\n",
       "      <th>Year of release</th>\n",
       "      <th>Price</th>\n",
       "      <th>Category</th>\n",
       "      <th>Rating</th>\n",
       "    </tr>\n",
       "  </thead>\n",
       "  <tbody>\n",
       "    <tr>\n",
       "      <th>0</th>\n",
       "      <td>1</td>\n",
       "      <td>Грокаем алгоритмы</td>\n",
       "      <td>2022.0</td>\n",
       "      <td>6 571</td>\n",
       "      <td>Питер, Прогресс книга, Библиотека программиста</td>\n",
       "      <td>4.7</td>\n",
       "    </tr>\n",
       "    <tr>\n",
       "      <th>1</th>\n",
       "      <td>2</td>\n",
       "      <td>Чистый код. Создание, анализ и рефакторинг</td>\n",
       "      <td>2019.0</td>\n",
       "      <td>4 951</td>\n",
       "      <td>Питер</td>\n",
       "      <td>3.0</td>\n",
       "    </tr>\n",
       "    <tr>\n",
       "      <th>2</th>\n",
       "      <td>3</td>\n",
       "      <td>Java. Руководство для начинающих</td>\n",
       "      <td>2019.0</td>\n",
       "      <td>26 728</td>\n",
       "      <td>Вильямс, Диалектика / Вильямс</td>\n",
       "      <td>4.0</td>\n",
       "    </tr>\n",
       "    <tr>\n",
       "      <th>3</th>\n",
       "      <td>4</td>\n",
       "      <td>System Design. Подготовка к сложному интервью</td>\n",
       "      <td>2022.0</td>\n",
       "      <td>7 666</td>\n",
       "      <td>Прогресс книга, Питер, Библиотека программиста</td>\n",
       "      <td>4.5</td>\n",
       "    </tr>\n",
       "    <tr>\n",
       "      <th>4</th>\n",
       "      <td>5</td>\n",
       "      <td>Разработка требований</td>\n",
       "      <td>2021.0</td>\n",
       "      <td>12 296</td>\n",
       "      <td>БХВ-Петербург, BHV</td>\n",
       "      <td>4.7</td>\n",
       "    </tr>\n",
       "    <tr>\n",
       "      <th>...</th>\n",
       "      <td>...</td>\n",
       "      <td>...</td>\n",
       "      <td>...</td>\n",
       "      <td>...</td>\n",
       "      <td>...</td>\n",
       "      <td>...</td>\n",
       "    </tr>\n",
       "    <tr>\n",
       "      <th>235</th>\n",
       "      <td>236</td>\n",
       "      <td>Проектирование в AutoCad</td>\n",
       "      <td>2021.0</td>\n",
       "      <td>5 594</td>\n",
       "      <td>МГТУ им. Баумана</td>\n",
       "      <td>4.2</td>\n",
       "    </tr>\n",
       "    <tr>\n",
       "      <th>236</th>\n",
       "      <td>237</td>\n",
       "      <td>Структуры данных в С++</td>\n",
       "      <td>2020.0</td>\n",
       "      <td>5 240</td>\n",
       "      <td>МГТУ им. Баумана</td>\n",
       "      <td>4.4</td>\n",
       "    </tr>\n",
       "    <tr>\n",
       "      <th>237</th>\n",
       "      <td>238</td>\n",
       "      <td>Детям об интернете</td>\n",
       "      <td>2020.0</td>\n",
       "      <td>2 197</td>\n",
       "      <td>Белорусская Православная Церковь</td>\n",
       "      <td>4.4</td>\n",
       "    </tr>\n",
       "    <tr>\n",
       "      <th>238</th>\n",
       "      <td>239</td>\n",
       "      <td>JavaScript. Как писать программы</td>\n",
       "      <td>2022.0</td>\n",
       "      <td>22 492</td>\n",
       "      <td>Лань, Компьютеры и программное обеспечение</td>\n",
       "      <td>4.6</td>\n",
       "    </tr>\n",
       "    <tr>\n",
       "      <th>239</th>\n",
       "      <td>240</td>\n",
       "      <td>Защита информации</td>\n",
       "      <td>2021.0</td>\n",
       "      <td>15 005</td>\n",
       "      <td>РИОР, Высшее образование</td>\n",
       "      <td>3.4</td>\n",
       "    </tr>\n",
       "  </tbody>\n",
       "</table>\n",
       "<p>240 rows × 6 columns</p>\n",
       "</div>"
      ],
      "text/plain": [
       "      Id                                   Name of book  Year of release  \\\n",
       "0      1                              Грокаем алгоритмы           2022.0   \n",
       "1      2     Чистый код. Создание, анализ и рефакторинг           2019.0   \n",
       "2      3               Java. Руководство для начинающих           2019.0   \n",
       "3      4  System Design. Подготовка к сложному интервью           2022.0   \n",
       "4      5                          Разработка требований           2021.0   \n",
       "..   ...                                            ...              ...   \n",
       "235  236                       Проектирование в AutoCad           2021.0   \n",
       "236  237                         Структуры данных в С++           2020.0   \n",
       "237  238                             Детям об интернете           2020.0   \n",
       "238  239               JavaScript. Как писать программы           2022.0   \n",
       "239  240                              Защита информации           2021.0   \n",
       "\n",
       "      Price                                        Category  Rating  \n",
       "0     6 571  Питер, Прогресс книга, Библиотека программиста     4.7  \n",
       "1     4 951                                           Питер     3.0  \n",
       "2    26 728                   Вильямс, Диалектика / Вильямс     4.0  \n",
       "3     7 666  Прогресс книга, Питер, Библиотека программиста     4.5  \n",
       "4    12 296                              БХВ-Петербург, BHV     4.7  \n",
       "..      ...                                             ...     ...  \n",
       "235   5 594                                МГТУ им. Баумана     4.2  \n",
       "236   5 240                                МГТУ им. Баумана     4.4  \n",
       "237   2 197                Белорусская Православная Церковь     4.4  \n",
       "238  22 492      Лань, Компьютеры и программное обеспечение     4.6  \n",
       "239  15 005                        РИОР, Высшее образование     3.4  \n",
       "\n",
       "[240 rows x 6 columns]"
      ]
     },
     "execution_count": 62,
     "metadata": {},
     "output_type": "execute_result"
    }
   ],
   "source": [
    "df2 = df1.copy()\n",
    "df2"
   ]
  },
  {
   "cell_type": "code",
   "execution_count": 63,
   "metadata": {
    "colab": {
     "base_uri": "https://localhost:8080/"
    },
    "id": "HbUKmztIi4F2",
    "outputId": "cf1bf53f-2f10-451e-dfd4-64ddec78f553"
   },
   "outputs": [
    {
     "data": {
      "text/plain": [
       "0"
      ]
     },
     "execution_count": 63,
     "metadata": {},
     "output_type": "execute_result"
    }
   ],
   "source": [
    "df2['Price'].isnull().sum()"
   ]
  },
  {
   "cell_type": "code",
   "execution_count": 64,
   "metadata": {
    "colab": {
     "base_uri": "https://localhost:8080/",
     "height": 363
    },
    "id": "2y0fK3IlkRUP",
    "outputId": "fa568274-1efe-46a1-f9e8-2debbcaf49c1"
   },
   "outputs": [
    {
     "data": {
      "text/html": [
       "<div>\n",
       "<style scoped>\n",
       "    .dataframe tbody tr th:only-of-type {\n",
       "        vertical-align: middle;\n",
       "    }\n",
       "\n",
       "    .dataframe tbody tr th {\n",
       "        vertical-align: top;\n",
       "    }\n",
       "\n",
       "    .dataframe thead th {\n",
       "        text-align: right;\n",
       "    }\n",
       "</style>\n",
       "<table border=\"1\" class=\"dataframe\">\n",
       "  <thead>\n",
       "    <tr style=\"text-align: right;\">\n",
       "      <th></th>\n",
       "      <th>Id</th>\n",
       "      <th>Name of book</th>\n",
       "      <th>Year of release</th>\n",
       "      <th>Price</th>\n",
       "      <th>Category</th>\n",
       "      <th>Rating</th>\n",
       "    </tr>\n",
       "  </thead>\n",
       "  <tbody>\n",
       "    <tr>\n",
       "      <th>0</th>\n",
       "      <td>1</td>\n",
       "      <td>Грокаем алгоритмы</td>\n",
       "      <td>2022.0</td>\n",
       "      <td>6 571</td>\n",
       "      <td>Питер, Прогресс книга, Библиотека программиста</td>\n",
       "      <td>4.7</td>\n",
       "    </tr>\n",
       "    <tr>\n",
       "      <th>1</th>\n",
       "      <td>2</td>\n",
       "      <td>Чистый код. Создание, анализ и рефакторинг</td>\n",
       "      <td>2019.0</td>\n",
       "      <td>4 951</td>\n",
       "      <td>Питер</td>\n",
       "      <td>3.0</td>\n",
       "    </tr>\n",
       "    <tr>\n",
       "      <th>2</th>\n",
       "      <td>3</td>\n",
       "      <td>Java. Руководство для начинающих</td>\n",
       "      <td>2019.0</td>\n",
       "      <td>26 728</td>\n",
       "      <td>Вильямс, Диалектика / Вильямс</td>\n",
       "      <td>4.0</td>\n",
       "    </tr>\n",
       "    <tr>\n",
       "      <th>3</th>\n",
       "      <td>4</td>\n",
       "      <td>System Design. Подготовка к сложному интервью</td>\n",
       "      <td>2022.0</td>\n",
       "      <td>7 666</td>\n",
       "      <td>Прогресс книга, Питер, Библиотека программиста</td>\n",
       "      <td>4.5</td>\n",
       "    </tr>\n",
       "    <tr>\n",
       "      <th>4</th>\n",
       "      <td>5</td>\n",
       "      <td>Разработка требований</td>\n",
       "      <td>2021.0</td>\n",
       "      <td>12 296</td>\n",
       "      <td>БХВ-Петербург, BHV</td>\n",
       "      <td>4.7</td>\n",
       "    </tr>\n",
       "    <tr>\n",
       "      <th>5</th>\n",
       "      <td>6</td>\n",
       "      <td>Дизайн. Книга для недизайнеров</td>\n",
       "      <td>2019.0</td>\n",
       "      <td>7 329</td>\n",
       "      <td>Прогресс книга, Современный дизайн</td>\n",
       "      <td>3.9</td>\n",
       "    </tr>\n",
       "    <tr>\n",
       "      <th>6</th>\n",
       "      <td>7</td>\n",
       "      <td>Философия Java</td>\n",
       "      <td>2019.0</td>\n",
       "      <td>18 828</td>\n",
       "      <td>Прогресс книга, Питер, Классика Computer Science</td>\n",
       "      <td>5.0</td>\n",
       "    </tr>\n",
       "    <tr>\n",
       "      <th>7</th>\n",
       "      <td>8</td>\n",
       "      <td>Swift. Основы разработки приложений под iOS</td>\n",
       "      <td>2021.0</td>\n",
       "      <td>10 739</td>\n",
       "      <td>Питер, Прогресс книга, Библиотека программиста</td>\n",
       "      <td>4.2</td>\n",
       "    </tr>\n",
       "    <tr>\n",
       "      <th>8</th>\n",
       "      <td>9</td>\n",
       "      <td>Глубокое обучение. Легкая разработка проектов ...</td>\n",
       "      <td>2021.0</td>\n",
       "      <td>15 778</td>\n",
       "      <td>Питер, Прогресс книга, Бестселлеры O`Reilly</td>\n",
       "      <td>3.6</td>\n",
       "    </tr>\n",
       "    <tr>\n",
       "      <th>9</th>\n",
       "      <td>10</td>\n",
       "      <td>Визуальные эффекты. Взгляд изнутри</td>\n",
       "      <td>2021.0</td>\n",
       "      <td>8 719</td>\n",
       "      <td>ДМК Пресс</td>\n",
       "      <td>3.4</td>\n",
       "    </tr>\n",
       "  </tbody>\n",
       "</table>\n",
       "</div>"
      ],
      "text/plain": [
       "   Id                                       Name of book  Year of release  \\\n",
       "0   1                                  Грокаем алгоритмы           2022.0   \n",
       "1   2         Чистый код. Создание, анализ и рефакторинг           2019.0   \n",
       "2   3                   Java. Руководство для начинающих           2019.0   \n",
       "3   4      System Design. Подготовка к сложному интервью           2022.0   \n",
       "4   5                              Разработка требований           2021.0   \n",
       "5   6                     Дизайн. Книга для недизайнеров           2019.0   \n",
       "6   7                                     Философия Java           2019.0   \n",
       "7   8        Swift. Основы разработки приложений под iOS           2021.0   \n",
       "8   9  Глубокое обучение. Легкая разработка проектов ...           2021.0   \n",
       "9  10                 Визуальные эффекты. Взгляд изнутри           2021.0   \n",
       "\n",
       "    Price                                          Category  Rating  \n",
       "0   6 571    Питер, Прогресс книга, Библиотека программиста     4.7  \n",
       "1   4 951                                             Питер     3.0  \n",
       "2  26 728                     Вильямс, Диалектика / Вильямс     4.0  \n",
       "3   7 666    Прогресс книга, Питер, Библиотека программиста     4.5  \n",
       "4  12 296                                БХВ-Петербург, BHV     4.7  \n",
       "5   7 329                Прогресс книга, Современный дизайн     3.9  \n",
       "6  18 828  Прогресс книга, Питер, Классика Computer Science     5.0  \n",
       "7  10 739    Питер, Прогресс книга, Библиотека программиста     4.2  \n",
       "8  15 778       Питер, Прогресс книга, Бестселлеры O`Reilly     3.6  \n",
       "9   8 719                                         ДМК Пресс     3.4  "
      ]
     },
     "execution_count": 64,
     "metadata": {},
     "output_type": "execute_result"
    }
   ],
   "source": [
    "df2.head(10)"
   ]
  },
  {
   "cell_type": "code",
   "execution_count": 65,
   "metadata": {
    "id": "-twnk2xZmK_e"
   },
   "outputs": [],
   "source": [
    "df2['Price'] = df2['Price'].str.replace(' ', '')"
   ]
  },
  {
   "cell_type": "code",
   "execution_count": 66,
   "metadata": {
    "colab": {
     "base_uri": "https://localhost:8080/"
    },
    "id": "fLpW-6Uko9rF",
    "outputId": "849c6b66-ba4d-4eb9-c17e-f7def99a3e61"
   },
   "outputs": [
    {
     "data": {
      "text/plain": [
       "0       6571\n",
       "1       4951\n",
       "2      26728\n",
       "3       7666\n",
       "4      12296\n",
       "       ...  \n",
       "235     5594\n",
       "236     5240\n",
       "237     2197\n",
       "238    22492\n",
       "239    15005\n",
       "Name: Price, Length: 240, dtype: int64"
      ]
     },
     "execution_count": 66,
     "metadata": {},
     "output_type": "execute_result"
    }
   ],
   "source": [
    "df2['Price'].astype(int)"
   ]
  },
  {
   "cell_type": "code",
   "execution_count": 67,
   "metadata": {
    "colab": {
     "base_uri": "https://localhost:8080/"
    },
    "id": "DLVxAlqkkCl9",
    "outputId": "d3726917-81a3-4ff3-929f-e6e1304ec0ab"
   },
   "outputs": [
    {
     "data": {
      "text/plain": [
       "Id                   int64\n",
       "Name of book        object\n",
       "Year of release    float64\n",
       "Price               object\n",
       "Category            object\n",
       "Rating             float64\n",
       "dtype: object"
      ]
     },
     "execution_count": 67,
     "metadata": {},
     "output_type": "execute_result"
    }
   ],
   "source": [
    "df2.dtypes"
   ]
  },
  {
   "cell_type": "markdown",
   "metadata": {
    "id": "flYQI0tb3Hi7"
   },
   "source": [
    "# **data visualization**"
   ]
  },
  {
   "cell_type": "code",
   "execution_count": 68,
   "metadata": {
    "id": "g_DTYt8G3k0q"
   },
   "outputs": [],
   "source": [
    "import matplotlib.pyplot as plt\n",
    "import seaborn as sns"
   ]
  },
  {
   "cell_type": "code",
   "execution_count": 69,
   "metadata": {
    "colab": {
     "base_uri": "https://localhost:8080/",
     "height": 279
    },
    "id": "pRtl7ZOF4Cq-",
    "outputId": "f770931a-9e29-4b2f-8fe3-76e269f77f58"
   },
   "outputs": [
    {
     "data": {
      "image/png": "[encoded data removed]",
      "text/plain": [
       "<Figure size 640x480 with 1 Axes>"
      ]
     },
     "metadata": {},
     "output_type": "display_data"
    }
   ],
   "source": [
    "sns.scatterplot(x=\"Year of release\", y=\"Price\", data=df2);"
   ]
  },
  {
   "cell_type": "code",
   "execution_count": 70,
   "metadata": {
    "colab": {
     "base_uri": "https://localhost:8080/",
     "height": 369
    },
    "id": "UwiNljl94P2D",
    "outputId": "5739c6ef-a226-43ee-dca3-e81b975f8da6"
   },
   "outputs": [
    {
     "data": {
      "image/png": "[encoded data removed]",
      "text/plain": [
       "<Figure size 500x500 with 1 Axes>"
      ]
     },
     "metadata": {},
     "output_type": "display_data"
    }
   ],
   "source": [
    "sns.lmplot(x=\"Year of release\", y=\"Rating\", data=df2);"
   ]
  },
  {
   "cell_type": "code",
   "execution_count": 71,
   "metadata": {
    "colab": {
     "base_uri": "https://localhost:8080/",
     "height": 337
    },
    "id": "XeW9hS7s8AJ3",
    "outputId": "a5a643de-7463-41ba-b2e4-1c211ad7bb22"
   },
   "outputs": [
    {
     "data": {
      "text/plain": [
       "<BarContainer object of 240 artists>"
      ]
     },
     "execution_count": 71,
     "metadata": {},
     "output_type": "execute_result"
    },
    {
     "data": {
      "image/png": "[encoded data removed]",
      "text/plain": [
       "<Figure size 1000x500 with 1 Axes>"
      ]
     },
     "metadata": {},
     "output_type": "display_data"
    }
   ],
   "source": [
    "fig = plt.figure(figsize = (10, 5))\n",
    "plt.bar(df2['Rating'], df2['Price'], color ='maroon', width = 0.4)"
   ]
  },
  {
   "cell_type": "code",
   "execution_count": 72,
   "metadata": {
    "colab": {
     "base_uri": "https://localhost:8080/",
     "height": 269
    },
    "id": "w_riBlJP4fzw",
    "outputId": "7c06f520-7463-4559-b2c8-6eb88e5fa644"
   },
   "outputs": [
    {
     "data": {
      "image/png": "[encoded data removed]",
      "text/plain": [
       "<Figure size 640x480 with 2 Axes>"
      ]
     },
     "metadata": {},
     "output_type": "display_data"
    }
   ],
   "source": [
    "cormap = df2.corr()\n",
    "sns.heatmap(cormap);"
   ]
  },
  {
   "cell_type": "code",
   "execution_count": 76,
   "metadata": {},
   "outputs": [],
   "source": [
    "df2 = df2.fillna(0)\n",
    "df2['Price'] = pd.to_numeric(df2['Price'])\n",
    "df2['Year of release'] = df2['Year of release'].astype(int)"
   ]
  },
  {
   "cell_type": "code",
   "execution_count": 77,
   "metadata": {},
   "outputs": [
    {
     "data": {
      "text/plain": [
       "<AxesSubplot:xlabel='Year of release', ylabel='Price'>"
      ]
     },
     "execution_count": 77,
     "metadata": {},
     "output_type": "execute_result"
    },
    {
     "data": {
      "image/png": "[encoded data removed]",
      "text/plain": [
       "<Figure size 2000x500 with 1 Axes>"
      ]
     },
     "metadata": {},
     "output_type": "display_data"
    }
   ],
   "source": [
    "df_median\n",
    "fig = plt.figure(figsize=(20,5))\n",
    "sns.barplot(x = \"Year of release\", y = \"Price\", data = df_median)"
   ]
  },
  {
   "cell_type": "markdown",
   "metadata": {
    "id": "WM0VSnoz3XuN"
   },
   "source": [
    "# **model**"
   ]
  },
  {
   "cell_type": "code",
   "execution_count": 40,
   "metadata": {
    "id": "PDbCsXzbtELG"
   },
   "outputs": [],
   "source": [
    "X = df2[['Year of release', 'Rating']]\n",
    "y = df2['Price']"
   ]
  },
  {
   "cell_type": "code",
   "execution_count": 41,
   "metadata": {
    "id": "Gx9YLw7LfPI8"
   },
   "outputs": [
    {
     "name": "stdout",
     "output_type": "stream",
     "text": [
      "     Year of release  Rating\n",
      "48              2021     4.3\n",
      "195             2021     4.0\n",
      "66              2019     4.5\n",
      "70              2021     3.0\n",
      "220             2023     4.5\n",
      "..               ...     ...\n",
      "137             2022     3.2\n",
      "72              2022     3.9\n",
      "140             2022     3.5\n",
      "235             2021     4.2\n",
      "37              2022     3.1\n",
      "\n",
      "[144 rows x 2 columns]\n",
      "     Year of release  Rating\n",
      "228             2014     4.2\n",
      "194             2022     4.2\n",
      "88              2017     3.2\n",
      "95              2019     3.6\n",
      "214             2022     5.0\n",
      "..               ...     ...\n",
      "42              2018     3.4\n",
      "17              2022     4.7\n",
      "5               2019     3.9\n",
      "180             2019     3.4\n",
      "106             2012     4.9\n",
      "\n",
      "[96 rows x 2 columns]\n",
      "48      4968\n",
      "195    11291\n",
      "66      4197\n",
      "70      5851\n",
      "220    15422\n",
      "       ...  \n",
      "137     9181\n",
      "72      7986\n",
      "140     8471\n",
      "235     5594\n",
      "37     12232\n",
      "Name: Price, Length: 144, dtype: int64\n",
      "228     1354\n",
      "194     8641\n",
      "88      9796\n",
      "95     12800\n",
      "214    15043\n",
      "       ...  \n",
      "42      9387\n",
      "17      3356\n",
      "5       7329\n",
      "180     6790\n",
      "106     6802\n",
      "Name: Price, Length: 96, dtype: int64\n"
     ]
    }
   ],
   "source": [
    "X_train, X_test, y_train, y_test = train_test_split(X, y, test_size = 0.4, random_state=1, shuffle=True)\n",
    "print(X_train)\n",
    "print(X_test)\n",
    "print(y_train)\n",
    "print(y_test)"
   ]
  },
  {
   "cell_type": "code",
   "execution_count": 43,
   "metadata": {
    "colab": {
     "base_uri": "https://localhost:8080/"
    },
    "id": "DO25HlEdgALS",
    "outputId": "ecd731e5-7b7c-452f-a8af-7aad4ec7a5af"
   },
   "outputs": [
    {
     "name": "stdout",
     "output_type": "stream",
     "text": [
      "(144, 2)\n",
      "(96, 2)\n",
      "(144,)\n",
      "(96,)\n"
     ]
    }
   ],
   "source": [
    "print(X_train.shape)\n",
    "print(X_test.shape)\n",
    "print(y_train.shape)\n",
    "print(y_test.shape) "
   ]
  },
  {
   "cell_type": "code",
   "execution_count": 44,
   "metadata": {
    "colab": {
     "base_uri": "https://localhost:8080/"
    },
    "id": "NkiSo3EnguOT",
    "outputId": "8ad0f0e7-6431-468f-ffb2-72cba8f497a7"
   },
   "outputs": [
    {
     "data": {
      "text/plain": [
       "LinearRegression()"
      ]
     },
     "execution_count": 44,
     "metadata": {},
     "output_type": "execute_result"
    }
   ],
   "source": [
    "regressor = LinearRegression()\n",
    "regressor.fit(X_train, y_train)"
   ]
  },
  {
   "cell_type": "code",
   "execution_count": 45,
   "metadata": {
    "colab": {
     "base_uri": "https://localhost:8080/"
    },
    "id": "sOoZbBSOpv10",
    "outputId": "bff3e8a8-f221-4474-d0c1-390616010e80"
   },
   "outputs": [
    {
     "data": {
      "text/plain": [
       "5983.641304346843"
      ]
     },
     "execution_count": 45,
     "metadata": {},
     "output_type": "execute_result"
    }
   ],
   "source": [
    "regressor.intercept_"
   ]
  },
  {
   "cell_type": "code",
   "execution_count": 46,
   "metadata": {
    "colab": {
     "base_uri": "https://localhost:8080/"
    },
    "id": "TsNMiuLOr84W",
    "outputId": "d330f282-620d-4cc4-e940-156e4d814b87"
   },
   "outputs": [
    {
     "data": {
      "text/plain": [
       "array([-4.66570794e-01,  1.43957219e+03])"
      ]
     },
     "execution_count": 46,
     "metadata": {},
     "output_type": "execute_result"
    }
   ],
   "source": [
    "regressor.coef_"
   ]
  },
  {
   "cell_type": "code",
   "execution_count": 47,
   "metadata": {
    "id": "jfKPhXwAvGVc"
   },
   "outputs": [],
   "source": [
    "kf = KFold(n_splits=10)"
   ]
  },
  {
   "cell_type": "code",
   "execution_count": 48,
   "metadata": {
    "colab": {
     "base_uri": "https://localhost:8080/"
    },
    "id": "iImVOXNdvXPD",
    "outputId": "de594e6e-2018-4cf3-e794-ce73c4dc358b"
   },
   "outputs": [
    {
     "data": {
      "text/plain": [
       "array([-2.04934147e+07, -3.93959254e+07, -3.13141040e+07, -8.71010859e+07,\n",
       "       -5.36326824e+07, -1.60239470e+11, -3.53850599e+07, -3.66989079e+07,\n",
       "       -1.64889105e+07, -2.25358271e+07])"
      ]
     },
     "execution_count": 48,
     "metadata": {},
     "output_type": "execute_result"
    }
   ],
   "source": [
    "results = cross_val_score(regressor, X_train, y_train, scoring='neg_mean_squared_error', cv=kf)\n",
    "results"
   ]
  },
  {
   "cell_type": "code",
   "execution_count": 49,
   "metadata": {
    "colab": {
     "base_uri": "https://localhost:8080/",
     "height": 363
    },
    "id": "MGqRcd34xL-6",
    "outputId": "3e90916e-64f8-454f-a1e2-646a66cf4422"
   },
   "outputs": [
    {
     "data": {
      "text/html": [
       "<div>\n",
       "<style scoped>\n",
       "    .dataframe tbody tr th:only-of-type {\n",
       "        vertical-align: middle;\n",
       "    }\n",
       "\n",
       "    .dataframe tbody tr th {\n",
       "        vertical-align: top;\n",
       "    }\n",
       "\n",
       "    .dataframe thead th {\n",
       "        text-align: right;\n",
       "    }\n",
       "</style>\n",
       "<table border=\"1\" class=\"dataframe\">\n",
       "  <thead>\n",
       "    <tr style=\"text-align: right;\">\n",
       "      <th></th>\n",
       "      <th>Price</th>\n",
       "    </tr>\n",
       "  </thead>\n",
       "  <tbody>\n",
       "    <tr>\n",
       "      <th>0</th>\n",
       "      <td>11090.170903</td>\n",
       "    </tr>\n",
       "    <tr>\n",
       "      <th>1</th>\n",
       "      <td>11086.438336</td>\n",
       "    </tr>\n",
       "    <tr>\n",
       "      <th>2</th>\n",
       "      <td>9649.199005</td>\n",
       "    </tr>\n",
       "    <tr>\n",
       "      <th>3</th>\n",
       "      <td>10224.094738</td>\n",
       "    </tr>\n",
       "    <tr>\n",
       "      <th>4</th>\n",
       "      <td>12238.096085</td>\n",
       "    </tr>\n",
       "    <tr>\n",
       "      <th>5</th>\n",
       "      <td>11806.691000</td>\n",
       "    </tr>\n",
       "    <tr>\n",
       "      <th>6</th>\n",
       "      <td>11518.309992</td>\n",
       "    </tr>\n",
       "    <tr>\n",
       "      <th>7</th>\n",
       "      <td>10367.118815</td>\n",
       "    </tr>\n",
       "    <tr>\n",
       "      <th>8</th>\n",
       "      <td>11232.261838</td>\n",
       "    </tr>\n",
       "    <tr>\n",
       "      <th>9</th>\n",
       "      <td>11375.285915</td>\n",
       "    </tr>\n",
       "  </tbody>\n",
       "</table>\n",
       "</div>"
      ],
      "text/plain": [
       "          Price\n",
       "0  11090.170903\n",
       "1  11086.438336\n",
       "2   9649.199005\n",
       "3  10224.094738\n",
       "4  12238.096085\n",
       "5  11806.691000\n",
       "6  11518.309992\n",
       "7  10367.118815\n",
       "8  11232.261838\n",
       "9  11375.285915"
      ]
     },
     "execution_count": 49,
     "metadata": {},
     "output_type": "execute_result"
    }
   ],
   "source": [
    "y_pred = regressor.predict(X_test)\n",
    "y_pred = pd.DataFrame(y_pred, columns=['Price'])\n",
    "y_pred.head(10)"
   ]
  },
  {
   "cell_type": "code",
   "execution_count": 50,
   "metadata": {
    "colab": {
     "base_uri": "https://localhost:8080/",
     "height": 424
    },
    "id": "LHXxsgXo5Fte",
    "outputId": "3b12993d-3757-46d0-f9ca-208f949f4ce3"
   },
   "outputs": [
    {
     "data": {
      "text/html": [
       "<div>\n",
       "<style scoped>\n",
       "    .dataframe tbody tr th:only-of-type {\n",
       "        vertical-align: middle;\n",
       "    }\n",
       "\n",
       "    .dataframe tbody tr th {\n",
       "        vertical-align: top;\n",
       "    }\n",
       "\n",
       "    .dataframe thead th {\n",
       "        text-align: right;\n",
       "    }\n",
       "</style>\n",
       "<table border=\"1\" class=\"dataframe\">\n",
       "  <thead>\n",
       "    <tr style=\"text-align: right;\">\n",
       "      <th></th>\n",
       "      <th>Price</th>\n",
       "    </tr>\n",
       "  </thead>\n",
       "  <tbody>\n",
       "    <tr>\n",
       "      <th>228</th>\n",
       "      <td>1354</td>\n",
       "    </tr>\n",
       "    <tr>\n",
       "      <th>194</th>\n",
       "      <td>8641</td>\n",
       "    </tr>\n",
       "    <tr>\n",
       "      <th>88</th>\n",
       "      <td>9796</td>\n",
       "    </tr>\n",
       "    <tr>\n",
       "      <th>95</th>\n",
       "      <td>12800</td>\n",
       "    </tr>\n",
       "    <tr>\n",
       "      <th>214</th>\n",
       "      <td>15043</td>\n",
       "    </tr>\n",
       "    <tr>\n",
       "      <th>...</th>\n",
       "      <td>...</td>\n",
       "    </tr>\n",
       "    <tr>\n",
       "      <th>42</th>\n",
       "      <td>9387</td>\n",
       "    </tr>\n",
       "    <tr>\n",
       "      <th>17</th>\n",
       "      <td>3356</td>\n",
       "    </tr>\n",
       "    <tr>\n",
       "      <th>5</th>\n",
       "      <td>7329</td>\n",
       "    </tr>\n",
       "    <tr>\n",
       "      <th>180</th>\n",
       "      <td>6790</td>\n",
       "    </tr>\n",
       "    <tr>\n",
       "      <th>106</th>\n",
       "      <td>6802</td>\n",
       "    </tr>\n",
       "  </tbody>\n",
       "</table>\n",
       "<p>96 rows × 1 columns</p>\n",
       "</div>"
      ],
      "text/plain": [
       "     Price\n",
       "228   1354\n",
       "194   8641\n",
       "88    9796\n",
       "95   12800\n",
       "214  15043\n",
       "..     ...\n",
       "42    9387\n",
       "17    3356\n",
       "5     7329\n",
       "180   6790\n",
       "106   6802\n",
       "\n",
       "[96 rows x 1 columns]"
      ]
     },
     "execution_count": 50,
     "metadata": {},
     "output_type": "execute_result"
    }
   ],
   "source": [
    "test_df = pd.DataFrame(y_test)\n",
    "test_df"
   ]
  },
  {
   "cell_type": "code",
   "execution_count": null,
   "metadata": {},
   "outputs": [],
   "source": []
  }
 ],
 "metadata": {
  "colab": {
   "provenance": []
  },
  "kernelspec": {
   "display_name": "Python 3 (ipykernel)",
   "language": "python",
   "name": "python3"
  },
  "language_info": {
   "codemirror_mode": {
    "name": "ipython",
    "version": 3
   },
   "file_extension": ".py",
   "mimetype": "text/x-python",
   "name": "python",
   "nbconvert_exporter": "python",
   "pygments_lexer": "ipython3",
   "version": "3.7.15"
  }
 },
 "nbformat": 4,
 "nbformat_minor": 1
}
