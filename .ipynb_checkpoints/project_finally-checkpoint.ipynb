{
 "cells": [
  {
   "cell_type": "code",
   "execution_count": 1,
   "metadata": {
    "id": "31hYX1vwqGiG"
   },
   "outputs": [],
   "source": [
    "import pandas as pd\n",
    "import numpy as np\n",
    "from sklearn.preprocessing import StandardScaler\n",
    "from sklearn.model_selection import train_test_split\n",
    "from sklearn.linear_model import LinearRegression\n",
    "from sklearn.model_selection import KFold, cross_val_score"
   ]
  },
  {
   "cell_type": "markdown",
   "metadata": {
    "id": "ail3shl3_SUT"
   },
   "source": [
    "# **Data Research**"
   ]
  },
  {
   "cell_type": "code",
   "execution_count": 2,
   "metadata": {
    "colab": {
     "base_uri": "https://localhost:8080/",
     "height": 424
    },
    "id": "oFDkWp3aponU",
    "outputId": "f20c1dfd-5c7b-4d5e-d292-2e5d26e297d8"
   },
   "outputs": [
    {
     "data": {
      "text/html": [
       "<div>\n",
       "<style scoped>\n",
       "    .dataframe tbody tr th:only-of-type {\n",
       "        vertical-align: middle;\n",
       "    }\n",
       "\n",
       "    .dataframe tbody tr th {\n",
       "        vertical-align: top;\n",
       "    }\n",
       "\n",
       "    .dataframe thead th {\n",
       "        text-align: right;\n",
       "    }\n",
       "</style>\n",
       "<table border=\"1\" class=\"dataframe\">\n",
       "  <thead>\n",
       "    <tr style=\"text-align: right;\">\n",
       "      <th></th>\n",
       "      <th>Unnamed: 0</th>\n",
       "      <th>Name of book</th>\n",
       "      <th>Year of relase</th>\n",
       "      <th>Price</th>\n",
       "      <th>Category</th>\n",
       "      <th>Rating</th>\n",
       "    </tr>\n",
       "  </thead>\n",
       "  <tbody>\n",
       "    <tr>\n",
       "      <th>0</th>\n",
       "      <td>0</td>\n",
       "      <td>Грокаем алгоритмы</td>\n",
       "      <td>2022.0</td>\n",
       "      <td>6 571</td>\n",
       "      <td>Питер, Прогресс книга, Библиотека программиста</td>\n",
       "      <td>4.7</td>\n",
       "    </tr>\n",
       "    <tr>\n",
       "      <th>1</th>\n",
       "      <td>1</td>\n",
       "      <td>Чистый код. Создание, анализ и рефакторинг</td>\n",
       "      <td>2019.0</td>\n",
       "      <td>4 951</td>\n",
       "      <td>Питер</td>\n",
       "      <td>3.0</td>\n",
       "    </tr>\n",
       "    <tr>\n",
       "      <th>2</th>\n",
       "      <td>2</td>\n",
       "      <td>Java. Руководство для начинающих</td>\n",
       "      <td>2019.0</td>\n",
       "      <td>26 728</td>\n",
       "      <td>Вильямс, Диалектика / Вильямс</td>\n",
       "      <td>4.0</td>\n",
       "    </tr>\n",
       "    <tr>\n",
       "      <th>3</th>\n",
       "      <td>3</td>\n",
       "      <td>System Design. Подготовка к сложному интервью</td>\n",
       "      <td>2022.0</td>\n",
       "      <td>7 666</td>\n",
       "      <td>Прогресс книга, Питер, Библиотека программиста</td>\n",
       "      <td>4.5</td>\n",
       "    </tr>\n",
       "    <tr>\n",
       "      <th>4</th>\n",
       "      <td>4</td>\n",
       "      <td>Разработка требований</td>\n",
       "      <td>2021.0</td>\n",
       "      <td>12 296</td>\n",
       "      <td>БХВ-Петербург, BHV</td>\n",
       "      <td>4.7</td>\n",
       "    </tr>\n",
       "    <tr>\n",
       "      <th>...</th>\n",
       "      <td>...</td>\n",
       "      <td>...</td>\n",
       "      <td>...</td>\n",
       "      <td>...</td>\n",
       "      <td>...</td>\n",
       "      <td>...</td>\n",
       "    </tr>\n",
       "    <tr>\n",
       "      <th>235</th>\n",
       "      <td>235</td>\n",
       "      <td>Проектирование в AutoCad</td>\n",
       "      <td>2021.0</td>\n",
       "      <td>5 594</td>\n",
       "      <td>МГТУ им. Баумана</td>\n",
       "      <td>4.2</td>\n",
       "    </tr>\n",
       "    <tr>\n",
       "      <th>236</th>\n",
       "      <td>236</td>\n",
       "      <td>Структуры данных в С++</td>\n",
       "      <td>2020.0</td>\n",
       "      <td>5 240</td>\n",
       "      <td>МГТУ им. Баумана</td>\n",
       "      <td>4.4</td>\n",
       "    </tr>\n",
       "    <tr>\n",
       "      <th>237</th>\n",
       "      <td>237</td>\n",
       "      <td>Детям об интернете</td>\n",
       "      <td>2020.0</td>\n",
       "      <td>2 197</td>\n",
       "      <td>Белорусская Православная Церковь</td>\n",
       "      <td>4.4</td>\n",
       "    </tr>\n",
       "    <tr>\n",
       "      <th>238</th>\n",
       "      <td>238</td>\n",
       "      <td>JavaScript. Как писать программы</td>\n",
       "      <td>2022.0</td>\n",
       "      <td>22 492</td>\n",
       "      <td>Лань, Компьютеры и программное обеспечение</td>\n",
       "      <td>4.6</td>\n",
       "    </tr>\n",
       "    <tr>\n",
       "      <th>239</th>\n",
       "      <td>239</td>\n",
       "      <td>Защита информации</td>\n",
       "      <td>2021.0</td>\n",
       "      <td>15 005</td>\n",
       "      <td>РИОР, Высшее образование</td>\n",
       "      <td>3.4</td>\n",
       "    </tr>\n",
       "  </tbody>\n",
       "</table>\n",
       "<p>240 rows × 6 columns</p>\n",
       "</div>"
      ],
      "text/plain": [
       "     Unnamed: 0                                   Name of book  \\\n",
       "0             0                              Грокаем алгоритмы   \n",
       "1             1     Чистый код. Создание, анализ и рефакторинг   \n",
       "2             2               Java. Руководство для начинающих   \n",
       "3             3  System Design. Подготовка к сложному интервью   \n",
       "4             4                          Разработка требований   \n",
       "..          ...                                            ...   \n",
       "235         235                       Проектирование в AutoCad   \n",
       "236         236                         Структуры данных в С++   \n",
       "237         237                             Детям об интернете   \n",
       "238         238               JavaScript. Как писать программы   \n",
       "239         239                              Защита информации   \n",
       "\n",
       "     Year of relase   Price                                        Category  \\\n",
       "0            2022.0   6 571  Питер, Прогресс книга, Библиотека программиста   \n",
       "1            2019.0   4 951                                           Питер   \n",
       "2            2019.0  26 728                   Вильямс, Диалектика / Вильямс   \n",
       "3            2022.0   7 666  Прогресс книга, Питер, Библиотека программиста   \n",
       "4            2021.0  12 296                              БХВ-Петербург, BHV   \n",
       "..              ...     ...                                             ...   \n",
       "235          2021.0   5 594                                МГТУ им. Баумана   \n",
       "236          2020.0   5 240                                МГТУ им. Баумана   \n",
       "237          2020.0   2 197                Белорусская Православная Церковь   \n",
       "238          2022.0  22 492      Лань, Компьютеры и программное обеспечение   \n",
       "239          2021.0  15 005                        РИОР, Высшее образование   \n",
       "\n",
       "     Rating  \n",
       "0       4.7  \n",
       "1       3.0  \n",
       "2       4.0  \n",
       "3       4.5  \n",
       "4       4.7  \n",
       "..      ...  \n",
       "235     4.2  \n",
       "236     4.4  \n",
       "237     4.4  \n",
       "238     4.6  \n",
       "239     3.4  \n",
       "\n",
       "[240 rows x 6 columns]"
      ]
     },
     "execution_count": 2,
     "metadata": {},
     "output_type": "execute_result"
    }
   ],
   "source": [
    "df = pd.read_csv('flip.csv', index_col=False)\n",
    "df"
   ]
  },
  {
   "cell_type": "code",
   "execution_count": 3,
   "metadata": {
    "colab": {
     "base_uri": "https://localhost:8080/"
    },
    "id": "d8hEpHXHprag",
    "outputId": "96603426-5cdc-4042-99f6-95f188bae1e8"
   },
   "outputs": [
    {
     "name": "stdout",
     "output_type": "stream",
     "text": [
      "<class 'pandas.core.frame.DataFrame'>\n",
      "RangeIndex: 240 entries, 0 to 239\n",
      "Data columns (total 6 columns):\n",
      " #   Column          Non-Null Count  Dtype  \n",
      "---  ------          --------------  -----  \n",
      " 0   Unnamed: 0      240 non-null    int64  \n",
      " 1   Name of book    240 non-null    object \n",
      " 2   Year of relase  239 non-null    float64\n",
      " 3   Price           240 non-null    object \n",
      " 4   Category        240 non-null    object \n",
      " 5   Rating          240 non-null    float64\n",
      "dtypes: float64(2), int64(1), object(3)\n",
      "memory usage: 11.4+ KB\n"
     ]
    }
   ],
   "source": [
    "df.info()"
   ]
  },
  {
   "cell_type": "code",
   "execution_count": 4,
   "metadata": {
    "colab": {
     "base_uri": "https://localhost:8080/",
     "height": 301
    },
    "id": "PdVSQDPh_lDP",
    "outputId": "98fba0b2-dd51-49a2-c618-bae3c5f87cbc"
   },
   "outputs": [
    {
     "data": {
      "text/html": [
       "<div>\n",
       "<style scoped>\n",
       "    .dataframe tbody tr th:only-of-type {\n",
       "        vertical-align: middle;\n",
       "    }\n",
       "\n",
       "    .dataframe tbody tr th {\n",
       "        vertical-align: top;\n",
       "    }\n",
       "\n",
       "    .dataframe thead th {\n",
       "        text-align: right;\n",
       "    }\n",
       "</style>\n",
       "<table border=\"1\" class=\"dataframe\">\n",
       "  <thead>\n",
       "    <tr style=\"text-align: right;\">\n",
       "      <th></th>\n",
       "      <th>Unnamed: 0</th>\n",
       "      <th>Year of relase</th>\n",
       "      <th>Rating</th>\n",
       "    </tr>\n",
       "  </thead>\n",
       "  <tbody>\n",
       "    <tr>\n",
       "      <th>count</th>\n",
       "      <td>240.00000</td>\n",
       "      <td>239.000000</td>\n",
       "      <td>240.000000</td>\n",
       "    </tr>\n",
       "    <tr>\n",
       "      <th>mean</th>\n",
       "      <td>119.50000</td>\n",
       "      <td>2020.451883</td>\n",
       "      <td>4.030417</td>\n",
       "    </tr>\n",
       "    <tr>\n",
       "      <th>std</th>\n",
       "      <td>69.42622</td>\n",
       "      <td>2.321978</td>\n",
       "      <td>0.602325</td>\n",
       "    </tr>\n",
       "    <tr>\n",
       "      <th>min</th>\n",
       "      <td>0.00000</td>\n",
       "      <td>2009.000000</td>\n",
       "      <td>3.000000</td>\n",
       "    </tr>\n",
       "    <tr>\n",
       "      <th>25%</th>\n",
       "      <td>59.75000</td>\n",
       "      <td>2019.000000</td>\n",
       "      <td>3.500000</td>\n",
       "    </tr>\n",
       "    <tr>\n",
       "      <th>50%</th>\n",
       "      <td>119.50000</td>\n",
       "      <td>2021.000000</td>\n",
       "      <td>4.000000</td>\n",
       "    </tr>\n",
       "    <tr>\n",
       "      <th>75%</th>\n",
       "      <td>179.25000</td>\n",
       "      <td>2022.000000</td>\n",
       "      <td>4.600000</td>\n",
       "    </tr>\n",
       "    <tr>\n",
       "      <th>max</th>\n",
       "      <td>239.00000</td>\n",
       "      <td>2023.000000</td>\n",
       "      <td>5.000000</td>\n",
       "    </tr>\n",
       "  </tbody>\n",
       "</table>\n",
       "</div>"
      ],
      "text/plain": [
       "       Unnamed: 0  Year of relase      Rating\n",
       "count   240.00000      239.000000  240.000000\n",
       "mean    119.50000     2020.451883    4.030417\n",
       "std      69.42622        2.321978    0.602325\n",
       "min       0.00000     2009.000000    3.000000\n",
       "25%      59.75000     2019.000000    3.500000\n",
       "50%     119.50000     2021.000000    4.000000\n",
       "75%     179.25000     2022.000000    4.600000\n",
       "max     239.00000     2023.000000    5.000000"
      ]
     },
     "execution_count": 4,
     "metadata": {},
     "output_type": "execute_result"
    }
   ],
   "source": [
    "df.describe()"
   ]
  },
  {
   "cell_type": "code",
   "execution_count": 5,
   "metadata": {
    "colab": {
     "base_uri": "https://localhost:8080/"
    },
    "id": "t_Hxy44RqiSL",
    "outputId": "0890d33c-9a2f-4a14-c399-369f6c5f5706"
   },
   "outputs": [
    {
     "data": {
      "text/plain": [
       "Unnamed: 0        0\n",
       "Name of book      0\n",
       "Year of relase    1\n",
       "Price             0\n",
       "Category          0\n",
       "Rating            0\n",
       "dtype: int64"
      ]
     },
     "execution_count": 5,
     "metadata": {},
     "output_type": "execute_result"
    }
   ],
   "source": [
    "df.isnull().sum()"
   ]
  },
  {
   "cell_type": "code",
   "execution_count": 6,
   "metadata": {
    "id": "7sAZHq9Zqc44"
   },
   "outputs": [],
   "source": [
    "df.rename(columns = {'Unnamed: 0':'Id', 'Year of relase':'Year of release'}, inplace = True)"
   ]
  },
  {
   "cell_type": "markdown",
   "metadata": {
    "id": "P6OG7iEv_rBV"
   },
   "source": [
    "# **Data Cleaning**"
   ]
  },
  {
   "cell_type": "code",
   "execution_count": 7,
   "metadata": {
    "colab": {
     "base_uri": "https://localhost:8080/"
    },
    "id": "qpvF4DswrGIZ",
    "outputId": "9e9e4231-db10-4a8b-9003-0a5e30344f5a"
   },
   "outputs": [
    {
     "data": {
      "text/plain": [
       "Index(['Id', 'Name of book', 'Year of release', 'Price', 'Category', 'Rating'], dtype='object')"
      ]
     },
     "execution_count": 7,
     "metadata": {},
     "output_type": "execute_result"
    }
   ],
   "source": [
    "df.columns"
   ]
  },
  {
   "cell_type": "code",
   "execution_count": 8,
   "metadata": {
    "id": "wteba_TcsJ2B"
   },
   "outputs": [],
   "source": [
    "df1 = df.copy()"
   ]
  },
  {
   "cell_type": "code",
   "execution_count": 9,
   "metadata": {
    "colab": {
     "base_uri": "https://localhost:8080/",
     "height": 424
    },
    "id": "PH9JhzuHr5Co",
    "outputId": "30a377e1-7c8f-4c46-90ef-d32cfbcc1074"
   },
   "outputs": [
    {
     "data": {
      "text/html": [
       "<div>\n",
       "<style scoped>\n",
       "    .dataframe tbody tr th:only-of-type {\n",
       "        vertical-align: middle;\n",
       "    }\n",
       "\n",
       "    .dataframe tbody tr th {\n",
       "        vertical-align: top;\n",
       "    }\n",
       "\n",
       "    .dataframe thead th {\n",
       "        text-align: right;\n",
       "    }\n",
       "</style>\n",
       "<table border=\"1\" class=\"dataframe\">\n",
       "  <thead>\n",
       "    <tr style=\"text-align: right;\">\n",
       "      <th></th>\n",
       "      <th>Id</th>\n",
       "      <th>Name of book</th>\n",
       "      <th>Year of release</th>\n",
       "      <th>Price</th>\n",
       "      <th>Category</th>\n",
       "      <th>Rating</th>\n",
       "    </tr>\n",
       "  </thead>\n",
       "  <tbody>\n",
       "    <tr>\n",
       "      <th>0</th>\n",
       "      <td>1</td>\n",
       "      <td>Грокаем алгоритмы</td>\n",
       "      <td>2022.0</td>\n",
       "      <td>6 571</td>\n",
       "      <td>Питер, Прогресс книга, Библиотека программиста</td>\n",
       "      <td>4.7</td>\n",
       "    </tr>\n",
       "    <tr>\n",
       "      <th>1</th>\n",
       "      <td>2</td>\n",
       "      <td>Чистый код. Создание, анализ и рефакторинг</td>\n",
       "      <td>2019.0</td>\n",
       "      <td>4 951</td>\n",
       "      <td>Питер</td>\n",
       "      <td>3.0</td>\n",
       "    </tr>\n",
       "    <tr>\n",
       "      <th>2</th>\n",
       "      <td>3</td>\n",
       "      <td>Java. Руководство для начинающих</td>\n",
       "      <td>2019.0</td>\n",
       "      <td>26 728</td>\n",
       "      <td>Вильямс, Диалектика / Вильямс</td>\n",
       "      <td>4.0</td>\n",
       "    </tr>\n",
       "    <tr>\n",
       "      <th>3</th>\n",
       "      <td>4</td>\n",
       "      <td>System Design. Подготовка к сложному интервью</td>\n",
       "      <td>2022.0</td>\n",
       "      <td>7 666</td>\n",
       "      <td>Прогресс книга, Питер, Библиотека программиста</td>\n",
       "      <td>4.5</td>\n",
       "    </tr>\n",
       "    <tr>\n",
       "      <th>4</th>\n",
       "      <td>5</td>\n",
       "      <td>Разработка требований</td>\n",
       "      <td>2021.0</td>\n",
       "      <td>12 296</td>\n",
       "      <td>БХВ-Петербург, BHV</td>\n",
       "      <td>4.7</td>\n",
       "    </tr>\n",
       "    <tr>\n",
       "      <th>...</th>\n",
       "      <td>...</td>\n",
       "      <td>...</td>\n",
       "      <td>...</td>\n",
       "      <td>...</td>\n",
       "      <td>...</td>\n",
       "      <td>...</td>\n",
       "    </tr>\n",
       "    <tr>\n",
       "      <th>235</th>\n",
       "      <td>236</td>\n",
       "      <td>Проектирование в AutoCad</td>\n",
       "      <td>2021.0</td>\n",
       "      <td>5 594</td>\n",
       "      <td>МГТУ им. Баумана</td>\n",
       "      <td>4.2</td>\n",
       "    </tr>\n",
       "    <tr>\n",
       "      <th>236</th>\n",
       "      <td>237</td>\n",
       "      <td>Структуры данных в С++</td>\n",
       "      <td>2020.0</td>\n",
       "      <td>5 240</td>\n",
       "      <td>МГТУ им. Баумана</td>\n",
       "      <td>4.4</td>\n",
       "    </tr>\n",
       "    <tr>\n",
       "      <th>237</th>\n",
       "      <td>238</td>\n",
       "      <td>Детям об интернете</td>\n",
       "      <td>2020.0</td>\n",
       "      <td>2 197</td>\n",
       "      <td>Белорусская Православная Церковь</td>\n",
       "      <td>4.4</td>\n",
       "    </tr>\n",
       "    <tr>\n",
       "      <th>238</th>\n",
       "      <td>239</td>\n",
       "      <td>JavaScript. Как писать программы</td>\n",
       "      <td>2022.0</td>\n",
       "      <td>22 492</td>\n",
       "      <td>Лань, Компьютеры и программное обеспечение</td>\n",
       "      <td>4.6</td>\n",
       "    </tr>\n",
       "    <tr>\n",
       "      <th>239</th>\n",
       "      <td>240</td>\n",
       "      <td>Защита информации</td>\n",
       "      <td>2021.0</td>\n",
       "      <td>15 005</td>\n",
       "      <td>РИОР, Высшее образование</td>\n",
       "      <td>3.4</td>\n",
       "    </tr>\n",
       "  </tbody>\n",
       "</table>\n",
       "<p>240 rows × 6 columns</p>\n",
       "</div>"
      ],
      "text/plain": [
       "      Id                                   Name of book  Year of release  \\\n",
       "0      1                              Грокаем алгоритмы           2022.0   \n",
       "1      2     Чистый код. Создание, анализ и рефакторинг           2019.0   \n",
       "2      3               Java. Руководство для начинающих           2019.0   \n",
       "3      4  System Design. Подготовка к сложному интервью           2022.0   \n",
       "4      5                          Разработка требований           2021.0   \n",
       "..   ...                                            ...              ...   \n",
       "235  236                       Проектирование в AutoCad           2021.0   \n",
       "236  237                         Структуры данных в С++           2020.0   \n",
       "237  238                             Детям об интернете           2020.0   \n",
       "238  239               JavaScript. Как писать программы           2022.0   \n",
       "239  240                              Защита информации           2021.0   \n",
       "\n",
       "      Price                                        Category  Rating  \n",
       "0     6 571  Питер, Прогресс книга, Библиотека программиста     4.7  \n",
       "1     4 951                                           Питер     3.0  \n",
       "2    26 728                   Вильямс, Диалектика / Вильямс     4.0  \n",
       "3     7 666  Прогресс книга, Питер, Библиотека программиста     4.5  \n",
       "4    12 296                              БХВ-Петербург, BHV     4.7  \n",
       "..      ...                                             ...     ...  \n",
       "235   5 594                                МГТУ им. Баумана     4.2  \n",
       "236   5 240                                МГТУ им. Баумана     4.4  \n",
       "237   2 197                Белорусская Православная Церковь     4.4  \n",
       "238  22 492      Лань, Компьютеры и программное обеспечение     4.6  \n",
       "239  15 005                        РИОР, Высшее образование     3.4  \n",
       "\n",
       "[240 rows x 6 columns]"
      ]
     },
     "execution_count": 9,
     "metadata": {},
     "output_type": "execute_result"
    }
   ],
   "source": [
    "df1['Id'] = df1['Id'] + 1\n",
    "df1"
   ]
  },
  {
   "cell_type": "code",
   "execution_count": 10,
   "metadata": {
    "colab": {
     "base_uri": "https://localhost:8080/",
     "height": 424
    },
    "id": "huxV3uY7s4IC",
    "outputId": "bb4e06ad-1677-4257-847b-c1f93e602bac"
   },
   "outputs": [
    {
     "data": {
      "text/html": [
       "<div>\n",
       "<style scoped>\n",
       "    .dataframe tbody tr th:only-of-type {\n",
       "        vertical-align: middle;\n",
       "    }\n",
       "\n",
       "    .dataframe tbody tr th {\n",
       "        vertical-align: top;\n",
       "    }\n",
       "\n",
       "    .dataframe thead th {\n",
       "        text-align: right;\n",
       "    }\n",
       "</style>\n",
       "<table border=\"1\" class=\"dataframe\">\n",
       "  <thead>\n",
       "    <tr style=\"text-align: right;\">\n",
       "      <th></th>\n",
       "      <th>Id</th>\n",
       "      <th>Name of book</th>\n",
       "      <th>Year of release</th>\n",
       "      <th>Price</th>\n",
       "      <th>Category</th>\n",
       "      <th>Rating</th>\n",
       "    </tr>\n",
       "  </thead>\n",
       "  <tbody>\n",
       "    <tr>\n",
       "      <th>0</th>\n",
       "      <td>1</td>\n",
       "      <td>Грокаем алгоритмы</td>\n",
       "      <td>2022.0</td>\n",
       "      <td>6 571</td>\n",
       "      <td>Питер, Прогресс книга, Библиотека программиста</td>\n",
       "      <td>4.7</td>\n",
       "    </tr>\n",
       "    <tr>\n",
       "      <th>1</th>\n",
       "      <td>2</td>\n",
       "      <td>Чистый код. Создание, анализ и рефакторинг</td>\n",
       "      <td>2019.0</td>\n",
       "      <td>4 951</td>\n",
       "      <td>Питер</td>\n",
       "      <td>3.0</td>\n",
       "    </tr>\n",
       "    <tr>\n",
       "      <th>2</th>\n",
       "      <td>3</td>\n",
       "      <td>Java. Руководство для начинающих</td>\n",
       "      <td>2019.0</td>\n",
       "      <td>26 728</td>\n",
       "      <td>Вильямс, Диалектика / Вильямс</td>\n",
       "      <td>4.0</td>\n",
       "    </tr>\n",
       "    <tr>\n",
       "      <th>3</th>\n",
       "      <td>4</td>\n",
       "      <td>System Design. Подготовка к сложному интервью</td>\n",
       "      <td>2022.0</td>\n",
       "      <td>7 666</td>\n",
       "      <td>Прогресс книга, Питер, Библиотека программиста</td>\n",
       "      <td>4.5</td>\n",
       "    </tr>\n",
       "    <tr>\n",
       "      <th>4</th>\n",
       "      <td>5</td>\n",
       "      <td>Разработка требований</td>\n",
       "      <td>2021.0</td>\n",
       "      <td>12 296</td>\n",
       "      <td>БХВ-Петербург, BHV</td>\n",
       "      <td>4.7</td>\n",
       "    </tr>\n",
       "    <tr>\n",
       "      <th>...</th>\n",
       "      <td>...</td>\n",
       "      <td>...</td>\n",
       "      <td>...</td>\n",
       "      <td>...</td>\n",
       "      <td>...</td>\n",
       "      <td>...</td>\n",
       "    </tr>\n",
       "    <tr>\n",
       "      <th>235</th>\n",
       "      <td>236</td>\n",
       "      <td>Проектирование в AutoCad</td>\n",
       "      <td>2021.0</td>\n",
       "      <td>5 594</td>\n",
       "      <td>МГТУ им. Баумана</td>\n",
       "      <td>4.2</td>\n",
       "    </tr>\n",
       "    <tr>\n",
       "      <th>236</th>\n",
       "      <td>237</td>\n",
       "      <td>Структуры данных в С++</td>\n",
       "      <td>2020.0</td>\n",
       "      <td>5 240</td>\n",
       "      <td>МГТУ им. Баумана</td>\n",
       "      <td>4.4</td>\n",
       "    </tr>\n",
       "    <tr>\n",
       "      <th>237</th>\n",
       "      <td>238</td>\n",
       "      <td>Детям об интернете</td>\n",
       "      <td>2020.0</td>\n",
       "      <td>2 197</td>\n",
       "      <td>Белорусская Православная Церковь</td>\n",
       "      <td>4.4</td>\n",
       "    </tr>\n",
       "    <tr>\n",
       "      <th>238</th>\n",
       "      <td>239</td>\n",
       "      <td>JavaScript. Как писать программы</td>\n",
       "      <td>2022.0</td>\n",
       "      <td>22 492</td>\n",
       "      <td>Лань, Компьютеры и программное обеспечение</td>\n",
       "      <td>4.6</td>\n",
       "    </tr>\n",
       "    <tr>\n",
       "      <th>239</th>\n",
       "      <td>240</td>\n",
       "      <td>Защита информации</td>\n",
       "      <td>2021.0</td>\n",
       "      <td>15 005</td>\n",
       "      <td>РИОР, Высшее образование</td>\n",
       "      <td>3.4</td>\n",
       "    </tr>\n",
       "  </tbody>\n",
       "</table>\n",
       "<p>240 rows × 6 columns</p>\n",
       "</div>"
      ],
      "text/plain": [
       "      Id                                   Name of book  Year of release  \\\n",
       "0      1                              Грокаем алгоритмы           2022.0   \n",
       "1      2     Чистый код. Создание, анализ и рефакторинг           2019.0   \n",
       "2      3               Java. Руководство для начинающих           2019.0   \n",
       "3      4  System Design. Подготовка к сложному интервью           2022.0   \n",
       "4      5                          Разработка требований           2021.0   \n",
       "..   ...                                            ...              ...   \n",
       "235  236                       Проектирование в AutoCad           2021.0   \n",
       "236  237                         Структуры данных в С++           2020.0   \n",
       "237  238                             Детям об интернете           2020.0   \n",
       "238  239               JavaScript. Как писать программы           2022.0   \n",
       "239  240                              Защита информации           2021.0   \n",
       "\n",
       "      Price                                        Category  Rating  \n",
       "0     6 571  Питер, Прогресс книга, Библиотека программиста     4.7  \n",
       "1     4 951                                           Питер     3.0  \n",
       "2    26 728                   Вильямс, Диалектика / Вильямс     4.0  \n",
       "3     7 666  Прогресс книга, Питер, Библиотека программиста     4.5  \n",
       "4    12 296                              БХВ-Петербург, BHV     4.7  \n",
       "..      ...                                             ...     ...  \n",
       "235   5 594                                МГТУ им. Баумана     4.2  \n",
       "236   5 240                                МГТУ им. Баумана     4.4  \n",
       "237   2 197                Белорусская Православная Церковь     4.4  \n",
       "238  22 492      Лань, Компьютеры и программное обеспечение     4.6  \n",
       "239  15 005                        РИОР, Высшее образование     3.4  \n",
       "\n",
       "[240 rows x 6 columns]"
      ]
     },
     "execution_count": 10,
     "metadata": {},
     "output_type": "execute_result"
    }
   ],
   "source": [
    "df2 = df1.copy()\n",
    "df2"
   ]
  },
  {
   "cell_type": "code",
   "execution_count": 11,
   "metadata": {
    "colab": {
     "base_uri": "https://localhost:8080/"
    },
    "id": "HbUKmztIi4F2",
    "outputId": "cf1bf53f-2f10-451e-dfd4-64ddec78f553"
   },
   "outputs": [
    {
     "data": {
      "text/plain": [
       "0"
      ]
     },
     "execution_count": 11,
     "metadata": {},
     "output_type": "execute_result"
    }
   ],
   "source": [
    "df2['Price'].isnull().sum()"
   ]
  },
  {
   "cell_type": "code",
   "execution_count": null,
   "metadata": {},
   "outputs": [],
   "source": [
    "df2."
   ]
  },
  {
   "cell_type": "code",
   "execution_count": 13,
   "metadata": {
    "colab": {
     "base_uri": "https://localhost:8080/",
     "height": 363
    },
    "id": "2y0fK3IlkRUP",
    "outputId": "fa568274-1efe-46a1-f9e8-2debbcaf49c1"
   },
   "outputs": [
    {
     "data": {
      "text/html": [
       "<div>\n",
       "<style scoped>\n",
       "    .dataframe tbody tr th:only-of-type {\n",
       "        vertical-align: middle;\n",
       "    }\n",
       "\n",
       "    .dataframe tbody tr th {\n",
       "        vertical-align: top;\n",
       "    }\n",
       "\n",
       "    .dataframe thead th {\n",
       "        text-align: right;\n",
       "    }\n",
       "</style>\n",
       "<table border=\"1\" class=\"dataframe\">\n",
       "  <thead>\n",
       "    <tr style=\"text-align: right;\">\n",
       "      <th></th>\n",
       "      <th>Id</th>\n",
       "      <th>Name of book</th>\n",
       "      <th>Year of release</th>\n",
       "      <th>Price</th>\n",
       "      <th>Category</th>\n",
       "      <th>Rating</th>\n",
       "    </tr>\n",
       "  </thead>\n",
       "  <tbody>\n",
       "    <tr>\n",
       "      <th>0</th>\n",
       "      <td>1</td>\n",
       "      <td>Грокаем алгоритмы</td>\n",
       "      <td>2022.0</td>\n",
       "      <td>6 571</td>\n",
       "      <td>Питер, Прогресс книга, Библиотека программиста</td>\n",
       "      <td>4.7</td>\n",
       "    </tr>\n",
       "    <tr>\n",
       "      <th>1</th>\n",
       "      <td>2</td>\n",
       "      <td>Чистый код. Создание, анализ и рефакторинг</td>\n",
       "      <td>2019.0</td>\n",
       "      <td>4 951</td>\n",
       "      <td>Питер</td>\n",
       "      <td>3.0</td>\n",
       "    </tr>\n",
       "    <tr>\n",
       "      <th>2</th>\n",
       "      <td>3</td>\n",
       "      <td>Java. Руководство для начинающих</td>\n",
       "      <td>2019.0</td>\n",
       "      <td>26 728</td>\n",
       "      <td>Вильямс, Диалектика / Вильямс</td>\n",
       "      <td>4.0</td>\n",
       "    </tr>\n",
       "    <tr>\n",
       "      <th>3</th>\n",
       "      <td>4</td>\n",
       "      <td>System Design. Подготовка к сложному интервью</td>\n",
       "      <td>2022.0</td>\n",
       "      <td>7 666</td>\n",
       "      <td>Прогресс книга, Питер, Библиотека программиста</td>\n",
       "      <td>4.5</td>\n",
       "    </tr>\n",
       "    <tr>\n",
       "      <th>4</th>\n",
       "      <td>5</td>\n",
       "      <td>Разработка требований</td>\n",
       "      <td>2021.0</td>\n",
       "      <td>12 296</td>\n",
       "      <td>БХВ-Петербург, BHV</td>\n",
       "      <td>4.7</td>\n",
       "    </tr>\n",
       "    <tr>\n",
       "      <th>5</th>\n",
       "      <td>6</td>\n",
       "      <td>Дизайн. Книга для недизайнеров</td>\n",
       "      <td>2019.0</td>\n",
       "      <td>7 329</td>\n",
       "      <td>Прогресс книга, Современный дизайн</td>\n",
       "      <td>3.9</td>\n",
       "    </tr>\n",
       "    <tr>\n",
       "      <th>6</th>\n",
       "      <td>7</td>\n",
       "      <td>Философия Java</td>\n",
       "      <td>2019.0</td>\n",
       "      <td>18 828</td>\n",
       "      <td>Прогресс книга, Питер, Классика Computer Science</td>\n",
       "      <td>5.0</td>\n",
       "    </tr>\n",
       "    <tr>\n",
       "      <th>7</th>\n",
       "      <td>8</td>\n",
       "      <td>Swift. Основы разработки приложений под iOS</td>\n",
       "      <td>2021.0</td>\n",
       "      <td>10 739</td>\n",
       "      <td>Питер, Прогресс книга, Библиотека программиста</td>\n",
       "      <td>4.2</td>\n",
       "    </tr>\n",
       "    <tr>\n",
       "      <th>8</th>\n",
       "      <td>9</td>\n",
       "      <td>Глубокое обучение. Легкая разработка проектов ...</td>\n",
       "      <td>2021.0</td>\n",
       "      <td>15 778</td>\n",
       "      <td>Питер, Прогресс книга, Бестселлеры O`Reilly</td>\n",
       "      <td>3.6</td>\n",
       "    </tr>\n",
       "    <tr>\n",
       "      <th>9</th>\n",
       "      <td>10</td>\n",
       "      <td>Визуальные эффекты. Взгляд изнутри</td>\n",
       "      <td>2021.0</td>\n",
       "      <td>8 719</td>\n",
       "      <td>ДМК Пресс</td>\n",
       "      <td>3.4</td>\n",
       "    </tr>\n",
       "  </tbody>\n",
       "</table>\n",
       "</div>"
      ],
      "text/plain": [
       "   Id                                       Name of book  Year of release  \\\n",
       "0   1                                  Грокаем алгоритмы           2022.0   \n",
       "1   2         Чистый код. Создание, анализ и рефакторинг           2019.0   \n",
       "2   3                   Java. Руководство для начинающих           2019.0   \n",
       "3   4      System Design. Подготовка к сложному интервью           2022.0   \n",
       "4   5                              Разработка требований           2021.0   \n",
       "5   6                     Дизайн. Книга для недизайнеров           2019.0   \n",
       "6   7                                     Философия Java           2019.0   \n",
       "7   8        Swift. Основы разработки приложений под iOS           2021.0   \n",
       "8   9  Глубокое обучение. Легкая разработка проектов ...           2021.0   \n",
       "9  10                 Визуальные эффекты. Взгляд изнутри           2021.0   \n",
       "\n",
       "    Price                                          Category  Rating  \n",
       "0   6 571    Питер, Прогресс книга, Библиотека программиста     4.7  \n",
       "1   4 951                                             Питер     3.0  \n",
       "2  26 728                     Вильямс, Диалектика / Вильямс     4.0  \n",
       "3   7 666    Прогресс книга, Питер, Библиотека программиста     4.5  \n",
       "4  12 296                                БХВ-Петербург, BHV     4.7  \n",
       "5   7 329                Прогресс книга, Современный дизайн     3.9  \n",
       "6  18 828  Прогресс книга, Питер, Классика Computer Science     5.0  \n",
       "7  10 739    Питер, Прогресс книга, Библиотека программиста     4.2  \n",
       "8  15 778       Питер, Прогресс книга, Бестселлеры O`Reilly     3.6  \n",
       "9   8 719                                         ДМК Пресс     3.4  "
      ]
     },
     "execution_count": 13,
     "metadata": {},
     "output_type": "execute_result"
    }
   ],
   "source": [
    "df2.head(10)"
   ]
  },
  {
   "cell_type": "code",
   "execution_count": 14,
   "metadata": {
    "id": "-twnk2xZmK_e"
   },
   "outputs": [],
   "source": [
    "df2['Price'] = df2['Price'].str.replace(' ', '')"
   ]
  },
  {
   "cell_type": "code",
   "execution_count": 15,
   "metadata": {
    "colab": {
     "base_uri": "https://localhost:8080/"
    },
    "id": "fLpW-6Uko9rF",
    "outputId": "849c6b66-ba4d-4eb9-c17e-f7def99a3e61"
   },
   "outputs": [
    {
     "data": {
      "text/plain": [
       "0       6571\n",
       "1       4951\n",
       "2      26728\n",
       "3       7666\n",
       "4      12296\n",
       "       ...  \n",
       "235     5594\n",
       "236     5240\n",
       "237     2197\n",
       "238    22492\n",
       "239    15005\n",
       "Name: Price, Length: 240, dtype: int64"
      ]
     },
     "execution_count": 15,
     "metadata": {},
     "output_type": "execute_result"
    }
   ],
   "source": [
    "df2['Price'].astype(int)"
   ]
  },
  {
   "cell_type": "code",
   "execution_count": 16,
   "metadata": {
    "colab": {
     "base_uri": "https://localhost:8080/"
    },
    "id": "DLVxAlqkkCl9",
    "outputId": "d3726917-81a3-4ff3-929f-e6e1304ec0ab"
   },
   "outputs": [
    {
     "data": {
      "text/plain": [
       "Id                   int64\n",
       "Name of book        object\n",
       "Year of release    float64\n",
       "Price               object\n",
       "Category            object\n",
       "Rating             float64\n",
       "dtype: object"
      ]
     },
     "execution_count": 16,
     "metadata": {},
     "output_type": "execute_result"
    }
   ],
   "source": [
    "df2.dtypes"
   ]
  },
  {
   "cell_type": "markdown",
   "metadata": {
    "id": "flYQI0tb3Hi7"
   },
   "source": [
    "# **data visualization**"
   ]
  },
  {
   "cell_type": "code",
   "execution_count": 17,
   "metadata": {
    "id": "g_DTYt8G3k0q"
   },
   "outputs": [],
   "source": [
    "import matplotlib.pyplot as plt\n",
    "import seaborn as sns"
   ]
  },
  {
   "cell_type": "code",
   "execution_count": 18,
   "metadata": {
    "colab": {
     "base_uri": "https://localhost:8080/",
     "height": 279
    },
    "id": "pRtl7ZOF4Cq-",
    "outputId": "f770931a-9e29-4b2f-8fe3-76e269f77f58"
   },
   "outputs": [
    {
     "data": {
      "image/png": "[encoded data removed]",
      "text/plain": [
       "<Figure size 640x480 with 1 Axes>"
      ]
     },
     "metadata": {},
     "output_type": "display_data"
    }
   ],
   "source": [
    "sns.scatterplot(x=\"Year of release\", y=\"Price\", data=df2);"
   ]
  },
  {
   "cell_type": "code",
   "execution_count": 19,
   "metadata": {
    "colab": {
     "base_uri": "https://localhost:8080/",
     "height": 369
    },
    "id": "UwiNljl94P2D",
    "outputId": "5739c6ef-a226-43ee-dca3-e81b975f8da6"
   },
   "outputs": [
    {
     "data": {
      "image/png": "[encoded data removed]",
      "text/plain": [
       "<Figure size 500x500 with 1 Axes>"
      ]
     },
     "metadata": {},
     "output_type": "display_data"
    }
   ],
   "source": [
    "sns.lmplot(x=\"Year of release\", y=\"Rating\", data=df2);"
   ]
  },
  {
   "cell_type": "code",
   "execution_count": 20,
   "metadata": {
    "colab": {
     "base_uri": "https://localhost:8080/",
     "height": 337
    },
    "id": "XeW9hS7s8AJ3",
    "outputId": "a5a643de-7463-41ba-b2e4-1c211ad7bb22"
   },
   "outputs": [
    {
     "data": {
      "text/plain": [
       "<BarContainer object of 240 artists>"
      ]
     },
     "execution_count": 20,
     "metadata": {},
     "output_type": "execute_result"
    },
    {
     "data": {
      "image/png": "[encoded data removed]",
      "text/plain": [
       "<Figure size 1000x500 with 1 Axes>"
      ]
     },
     "metadata": {},
     "output_type": "display_data"
    }
   ],
   "source": [
    "fig = plt.figure(figsize = (10, 5))\n",
    "plt.bar(df2['Rating'], df2['Price'], color ='maroon', width = 0.4)"
   ]
  },
  {
   "cell_type": "code",
   "execution_count": 21,
   "metadata": {
    "colab": {
     "base_uri": "https://localhost:8080/",
     "height": 269
    },
    "id": "w_riBlJP4fzw",
    "outputId": "7c06f520-7463-4559-b2c8-6eb88e5fa644"
   },
   "outputs": [
    {
     "data": {
      "image/png": "[encoded data removed]",
      "text/plain": [
       "<Figure size 640x480 with 2 Axes>"
      ]
     },
     "metadata": {},
     "output_type": "display_data"
    }
   ],
   "source": [
    "cormap = df2.corr()\n",
    "sns.heatmap(cormap);"
   ]
  },
  {
   "cell_type": "markdown",
   "metadata": {
    "id": "WM0VSnoz3XuN"
   },
   "source": [
    "# **model**"
   ]
  },
  {
   "cell_type": "code",
   "execution_count": 22,
   "metadata": {
    "id": "PDbCsXzbtELG"
   },
   "outputs": [],
   "source": [
    "X = df2[['Year of release', 'Rating']]\n",
    "y = df2['Price']"
   ]
  },
  {
   "cell_type": "code",
   "execution_count": 23,
   "metadata": {
    "id": "Gx9YLw7LfPI8"
   },
   "outputs": [
    {
     "name": "stdout",
     "output_type": "stream",
     "text": [
      "     Year of release  Rating\n",
      "48            2021.0     4.3\n",
      "195           2021.0     4.0\n",
      "66            2019.0     4.5\n",
      "70            2021.0     3.0\n",
      "220           2023.0     4.5\n",
      "..               ...     ...\n",
      "137           2022.0     3.2\n",
      "72            2022.0     3.9\n",
      "140           2022.0     3.5\n",
      "235           2021.0     4.2\n",
      "37            2022.0     3.1\n",
      "\n",
      "[144 rows x 2 columns]\n",
      "     Year of release  Rating\n",
      "228           2014.0     4.2\n",
      "194           2022.0     4.2\n",
      "88            2017.0     3.2\n",
      "95            2019.0     3.6\n",
      "214           2022.0     5.0\n",
      "..               ...     ...\n",
      "42            2018.0     3.4\n",
      "17            2022.0     4.7\n",
      "5             2019.0     3.9\n",
      "180           2019.0     3.4\n",
      "106           2012.0     4.9\n",
      "\n",
      "[96 rows x 2 columns]\n",
      "48      4968\n",
      "195    11291\n",
      "66      4197\n",
      "70      5851\n",
      "220    15422\n",
      "       ...  \n",
      "137     9181\n",
      "72      7986\n",
      "140     8471\n",
      "235     5594\n",
      "37     12232\n",
      "Name: Price, Length: 144, dtype: object\n",
      "228     1354\n",
      "194     8641\n",
      "88      9796\n",
      "95     12800\n",
      "214    15043\n",
      "       ...  \n",
      "42      9387\n",
      "17      3356\n",
      "5       7329\n",
      "180     6790\n",
      "106     6802\n",
      "Name: Price, Length: 96, dtype: object\n"
     ]
    }
   ],
   "source": [
    "X_train, X_test, y_train, y_test = train_test_split(X, y, test_size = 0.4, random_state=1, shuffle=True)\n",
    "print(X_train)\n",
    "print(X_test)\n",
    "print(y_train)\n",
    "print(y_test)"
   ]
  },
  {
   "cell_type": "code",
   "execution_count": 24,
   "metadata": {
    "colab": {
     "base_uri": "https://localhost:8080/"
    },
    "id": "DO25HlEdgALS",
    "outputId": "ecd731e5-7b7c-452f-a8af-7aad4ec7a5af"
   },
   "outputs": [
    {
     "ename": "SyntaxError",
     "evalue": "invalid syntax (659114066.py, line 4)",
     "output_type": "error",
     "traceback": [
      "\u001b[0;36m  File \u001b[0;32m\"/tmp/ipykernel_94551/659114066.py\"\u001b[0;36m, line \u001b[0;32m4\u001b[0m\n\u001b[0;31m    print(y_test.shape) visua\u001b[0m\n\u001b[0m                            ^\u001b[0m\n\u001b[0;31mSyntaxError\u001b[0m\u001b[0;31m:\u001b[0m invalid syntax\n"
     ]
    }
   ],
   "source": [
    "print(X_train.shape)\n",
    "print(X_test.shape)\n",
    "print(y_train.shape)\n",
    "print(y_test.shape) visua"
   ]
  },
  {
   "cell_type": "code",
   "execution_count": 25,
   "metadata": {
    "colab": {
     "base_uri": "https://localhost:8080/"
    },
    "id": "NkiSo3EnguOT",
    "outputId": "8ad0f0e7-6431-468f-ffb2-72cba8f497a7"
   },
   "outputs": [
    {
     "ename": "ValueError",
     "evalue": "Input contains NaN, infinity or a value too large for dtype('float64').",
     "output_type": "error",
     "traceback": [
      "\u001b[0;31m---------------------------------------------------------------------------\u001b[0m",
      "\u001b[0;31mValueError\u001b[0m                                Traceback (most recent call last)",
      "\u001b[0;32m/tmp/ipykernel_94551/830959098.py\u001b[0m in \u001b[0;36m<module>\u001b[0;34m\u001b[0m\n\u001b[1;32m      1\u001b[0m \u001b[0mregressor\u001b[0m \u001b[0;34m=\u001b[0m \u001b[0mLinearRegression\u001b[0m\u001b[0;34m(\u001b[0m\u001b[0;34m)\u001b[0m\u001b[0;34m\u001b[0m\u001b[0;34m\u001b[0m\u001b[0m\n\u001b[0;32m----> 2\u001b[0;31m \u001b[0mregressor\u001b[0m\u001b[0;34m.\u001b[0m\u001b[0mfit\u001b[0m\u001b[0;34m(\u001b[0m\u001b[0mX_train\u001b[0m\u001b[0;34m,\u001b[0m \u001b[0my_train\u001b[0m\u001b[0;34m)\u001b[0m\u001b[0;34m\u001b[0m\u001b[0;34m\u001b[0m\u001b[0m\n\u001b[0m",
      "\u001b[0;32m~/.local/lib/python3.7/site-packages/sklearn/linear_model/_base.py\u001b[0m in \u001b[0;36mfit\u001b[0;34m(self, X, y, sample_weight)\u001b[0m\n\u001b[1;32m    661\u001b[0m \u001b[0;34m\u001b[0m\u001b[0m\n\u001b[1;32m    662\u001b[0m         X, y = self._validate_data(\n\u001b[0;32m--> 663\u001b[0;31m             \u001b[0mX\u001b[0m\u001b[0;34m,\u001b[0m \u001b[0my\u001b[0m\u001b[0;34m,\u001b[0m \u001b[0maccept_sparse\u001b[0m\u001b[0;34m=\u001b[0m\u001b[0maccept_sparse\u001b[0m\u001b[0;34m,\u001b[0m \u001b[0my_numeric\u001b[0m\u001b[0;34m=\u001b[0m\u001b[0;32mTrue\u001b[0m\u001b[0;34m,\u001b[0m \u001b[0mmulti_output\u001b[0m\u001b[0;34m=\u001b[0m\u001b[0;32mTrue\u001b[0m\u001b[0;34m\u001b[0m\u001b[0;34m\u001b[0m\u001b[0m\n\u001b[0m\u001b[1;32m    664\u001b[0m         )\n\u001b[1;32m    665\u001b[0m \u001b[0;34m\u001b[0m\u001b[0m\n",
      "\u001b[0;32m~/.local/lib/python3.7/site-packages/sklearn/base.py\u001b[0m in \u001b[0;36m_validate_data\u001b[0;34m(self, X, y, reset, validate_separately, **check_params)\u001b[0m\n\u001b[1;32m    579\u001b[0m                 \u001b[0my\u001b[0m \u001b[0;34m=\u001b[0m \u001b[0mcheck_array\u001b[0m\u001b[0;34m(\u001b[0m\u001b[0my\u001b[0m\u001b[0;34m,\u001b[0m \u001b[0;34m**\u001b[0m\u001b[0mcheck_y_params\u001b[0m\u001b[0;34m)\u001b[0m\u001b[0;34m\u001b[0m\u001b[0;34m\u001b[0m\u001b[0m\n\u001b[1;32m    580\u001b[0m             \u001b[0;32melse\u001b[0m\u001b[0;34m:\u001b[0m\u001b[0;34m\u001b[0m\u001b[0;34m\u001b[0m\u001b[0m\n\u001b[0;32m--> 581\u001b[0;31m                 \u001b[0mX\u001b[0m\u001b[0;34m,\u001b[0m \u001b[0my\u001b[0m \u001b[0;34m=\u001b[0m \u001b[0mcheck_X_y\u001b[0m\u001b[0;34m(\u001b[0m\u001b[0mX\u001b[0m\u001b[0;34m,\u001b[0m \u001b[0my\u001b[0m\u001b[0;34m,\u001b[0m \u001b[0;34m**\u001b[0m\u001b[0mcheck_params\u001b[0m\u001b[0;34m)\u001b[0m\u001b[0;34m\u001b[0m\u001b[0;34m\u001b[0m\u001b[0m\n\u001b[0m\u001b[1;32m    582\u001b[0m             \u001b[0mout\u001b[0m \u001b[0;34m=\u001b[0m \u001b[0mX\u001b[0m\u001b[0;34m,\u001b[0m \u001b[0my\u001b[0m\u001b[0;34m\u001b[0m\u001b[0;34m\u001b[0m\u001b[0m\n\u001b[1;32m    583\u001b[0m \u001b[0;34m\u001b[0m\u001b[0m\n",
      "\u001b[0;32m~/.local/lib/python3.7/site-packages/sklearn/utils/validation.py\u001b[0m in \u001b[0;36mcheck_X_y\u001b[0;34m(X, y, accept_sparse, accept_large_sparse, dtype, order, copy, force_all_finite, ensure_2d, allow_nd, multi_output, ensure_min_samples, ensure_min_features, y_numeric, estimator)\u001b[0m\n\u001b[1;32m    974\u001b[0m         \u001b[0mensure_min_samples\u001b[0m\u001b[0;34m=\u001b[0m\u001b[0mensure_min_samples\u001b[0m\u001b[0;34m,\u001b[0m\u001b[0;34m\u001b[0m\u001b[0;34m\u001b[0m\u001b[0m\n\u001b[1;32m    975\u001b[0m         \u001b[0mensure_min_features\u001b[0m\u001b[0;34m=\u001b[0m\u001b[0mensure_min_features\u001b[0m\u001b[0;34m,\u001b[0m\u001b[0;34m\u001b[0m\u001b[0;34m\u001b[0m\u001b[0m\n\u001b[0;32m--> 976\u001b[0;31m         \u001b[0mestimator\u001b[0m\u001b[0;34m=\u001b[0m\u001b[0mestimator\u001b[0m\u001b[0;34m,\u001b[0m\u001b[0;34m\u001b[0m\u001b[0;34m\u001b[0m\u001b[0m\n\u001b[0m\u001b[1;32m    977\u001b[0m     )\n\u001b[1;32m    978\u001b[0m \u001b[0;34m\u001b[0m\u001b[0m\n",
      "\u001b[0;32m~/.local/lib/python3.7/site-packages/sklearn/utils/validation.py\u001b[0m in \u001b[0;36mcheck_array\u001b[0;34m(array, accept_sparse, accept_large_sparse, dtype, order, copy, force_all_finite, ensure_2d, allow_nd, ensure_min_samples, ensure_min_features, estimator)\u001b[0m\n\u001b[1;32m    798\u001b[0m \u001b[0;34m\u001b[0m\u001b[0m\n\u001b[1;32m    799\u001b[0m         \u001b[0;32mif\u001b[0m \u001b[0mforce_all_finite\u001b[0m\u001b[0;34m:\u001b[0m\u001b[0;34m\u001b[0m\u001b[0;34m\u001b[0m\u001b[0m\n\u001b[0;32m--> 800\u001b[0;31m             \u001b[0m_assert_all_finite\u001b[0m\u001b[0;34m(\u001b[0m\u001b[0marray\u001b[0m\u001b[0;34m,\u001b[0m \u001b[0mallow_nan\u001b[0m\u001b[0;34m=\u001b[0m\u001b[0mforce_all_finite\u001b[0m \u001b[0;34m==\u001b[0m \u001b[0;34m\"allow-nan\"\u001b[0m\u001b[0;34m)\u001b[0m\u001b[0;34m\u001b[0m\u001b[0;34m\u001b[0m\u001b[0m\n\u001b[0m\u001b[1;32m    801\u001b[0m \u001b[0;34m\u001b[0m\u001b[0m\n\u001b[1;32m    802\u001b[0m     \u001b[0;32mif\u001b[0m \u001b[0mensure_min_samples\u001b[0m \u001b[0;34m>\u001b[0m \u001b[0;36m0\u001b[0m\u001b[0;34m:\u001b[0m\u001b[0;34m\u001b[0m\u001b[0;34m\u001b[0m\u001b[0m\n",
      "\u001b[0;32m~/.local/lib/python3.7/site-packages/sklearn/utils/validation.py\u001b[0m in \u001b[0;36m_assert_all_finite\u001b[0;34m(X, allow_nan, msg_dtype)\u001b[0m\n\u001b[1;32m    114\u001b[0m             raise ValueError(\n\u001b[1;32m    115\u001b[0m                 msg_err.format(\n\u001b[0;32m--> 116\u001b[0;31m                     \u001b[0mtype_err\u001b[0m\u001b[0;34m,\u001b[0m \u001b[0mmsg_dtype\u001b[0m \u001b[0;32mif\u001b[0m \u001b[0mmsg_dtype\u001b[0m \u001b[0;32mis\u001b[0m \u001b[0;32mnot\u001b[0m \u001b[0;32mNone\u001b[0m \u001b[0;32melse\u001b[0m \u001b[0mX\u001b[0m\u001b[0;34m.\u001b[0m\u001b[0mdtype\u001b[0m\u001b[0;34m\u001b[0m\u001b[0;34m\u001b[0m\u001b[0m\n\u001b[0m\u001b[1;32m    117\u001b[0m                 )\n\u001b[1;32m    118\u001b[0m             )\n",
      "\u001b[0;31mValueError\u001b[0m: Input contains NaN, infinity or a value too large for dtype('float64')."
     ]
    }
   ],
   "source": [
    "regressor = LinearRegression()\n",
    "regressor.fit(X_train, y_train)"
   ]
  },
  {
   "cell_type": "code",
   "execution_count": 26,
   "metadata": {
    "colab": {
     "base_uri": "https://localhost:8080/"
    },
    "id": "sOoZbBSOpv10",
    "outputId": "bff3e8a8-f221-4474-d0c1-390616010e80"
   },
   "outputs": [
    {
     "ename": "AttributeError",
     "evalue": "'LinearRegression' object has no attribute 'intercept_'",
     "output_type": "error",
     "traceback": [
      "\u001b[0;31m---------------------------------------------------------------------------\u001b[0m",
      "\u001b[0;31mAttributeError\u001b[0m                            Traceback (most recent call last)",
      "\u001b[0;32m/tmp/ipykernel_94551/1493538216.py\u001b[0m in \u001b[0;36m<module>\u001b[0;34m\u001b[0m\n\u001b[0;32m----> 1\u001b[0;31m \u001b[0mregressor\u001b[0m\u001b[0;34m.\u001b[0m\u001b[0mintercept_\u001b[0m\u001b[0;34m\u001b[0m\u001b[0;34m\u001b[0m\u001b[0m\n\u001b[0m",
      "\u001b[0;31mAttributeError\u001b[0m: 'LinearRegression' object has no attribute 'intercept_'"
     ]
    }
   ],
   "source": [
    "regressor.intercept_"
   ]
  },
  {
   "cell_type": "code",
   "execution_count": 27,
   "metadata": {
    "colab": {
     "base_uri": "https://localhost:8080/"
    },
    "id": "TsNMiuLOr84W",
    "outputId": "d330f282-620d-4cc4-e940-156e4d814b87"
   },
   "outputs": [
    {
     "ename": "AttributeError",
     "evalue": "'LinearRegression' object has no attribute 'coef_'",
     "output_type": "error",
     "traceback": [
      "\u001b[0;31m---------------------------------------------------------------------------\u001b[0m",
      "\u001b[0;31mAttributeError\u001b[0m                            Traceback (most recent call last)",
      "\u001b[0;32m/tmp/ipykernel_94551/2855285850.py\u001b[0m in \u001b[0;36m<module>\u001b[0;34m\u001b[0m\n\u001b[0;32m----> 1\u001b[0;31m \u001b[0mregressor\u001b[0m\u001b[0;34m.\u001b[0m\u001b[0mcoef_\u001b[0m\u001b[0;34m\u001b[0m\u001b[0;34m\u001b[0m\u001b[0m\n\u001b[0m",
      "\u001b[0;31mAttributeError\u001b[0m: 'LinearRegression' object has no attribute 'coef_'"
     ]
    }
   ],
   "source": [
    "regressor.coef_"
   ]
  },
  {
   "cell_type": "code",
   "execution_count": 28,
   "metadata": {
    "id": "jfKPhXwAvGVc"
   },
   "outputs": [],
   "source": [
    "kf = KFold(n_splits=10)"
   ]
  },
  {
   "cell_type": "code",
   "execution_count": 29,
   "metadata": {
    "colab": {
     "base_uri": "https://localhost:8080/"
    },
    "id": "iImVOXNdvXPD",
    "outputId": "de594e6e-2018-4cf3-e794-ce73c4dc358b"
   },
   "outputs": [
    {
     "name": "stderr",
     "output_type": "stream",
     "text": [
      "/home/alibekabdrakhman/.local/lib/python3.7/site-packages/sklearn/model_selection/_validation.py:774: UserWarning: Scoring failed. The score on this train-test partition for these parameters will be set to nan. Details: \n",
      "Traceback (most recent call last):\n",
      "  File \"/home/alibekabdrakhman/.local/lib/python3.7/site-packages/sklearn/model_selection/_validation.py\", line 761, in _score\n",
      "    scores = scorer(estimator, X_test, y_test)\n",
      "  File \"/home/alibekabdrakhman/.local/lib/python3.7/site-packages/sklearn/metrics/_scorer.py\", line 103, in __call__\n",
      "    score = scorer._score(cached_call, estimator, *args, **kwargs)\n",
      "  File \"/home/alibekabdrakhman/.local/lib/python3.7/site-packages/sklearn/metrics/_scorer.py\", line 258, in _score\n",
      "    y_pred = method_caller(estimator, \"predict\", X)\n",
      "  File \"/home/alibekabdrakhman/.local/lib/python3.7/site-packages/sklearn/metrics/_scorer.py\", line 68, in _cached_call\n",
      "    return getattr(estimator, method)(*args, **kwargs)\n",
      "  File \"/home/alibekabdrakhman/.local/lib/python3.7/site-packages/sklearn/linear_model/_base.py\", line 362, in predict\n",
      "    return self._decision_function(X)\n",
      "  File \"/home/alibekabdrakhman/.local/lib/python3.7/site-packages/sklearn/linear_model/_base.py\", line 345, in _decision_function\n",
      "    X = self._validate_data(X, accept_sparse=[\"csr\", \"csc\", \"coo\"], reset=False)\n",
      "  File \"/home/alibekabdrakhman/.local/lib/python3.7/site-packages/sklearn/base.py\", line 566, in _validate_data\n",
      "    X = check_array(X, **check_params)\n",
      "  File \"/home/alibekabdrakhman/.local/lib/python3.7/site-packages/sklearn/utils/validation.py\", line 800, in check_array\n",
      "    _assert_all_finite(array, allow_nan=force_all_finite == \"allow-nan\")\n",
      "  File \"/home/alibekabdrakhman/.local/lib/python3.7/site-packages/sklearn/utils/validation.py\", line 116, in _assert_all_finite\n",
      "    type_err, msg_dtype if msg_dtype is not None else X.dtype\n",
      "ValueError: Input contains NaN, infinity or a value too large for dtype('float64').\n",
      "\n",
      "  UserWarning,\n",
      "/home/alibekabdrakhman/.local/lib/python3.7/site-packages/sklearn/model_selection/_validation.py:372: FitFailedWarning: \n",
      "9 fits failed out of a total of 10.\n",
      "The score on these train-test partitions for these parameters will be set to nan.\n",
      "If these failures are not expected, you can try to debug them by setting error_score='raise'.\n",
      "\n",
      "Below are more details about the failures:\n",
      "--------------------------------------------------------------------------------\n",
      "9 fits failed with the following error:\n",
      "Traceback (most recent call last):\n",
      "  File \"/home/alibekabdrakhman/.local/lib/python3.7/site-packages/sklearn/model_selection/_validation.py\", line 680, in _fit_and_score\n",
      "    estimator.fit(X_train, y_train, **fit_params)\n",
      "  File \"/home/alibekabdrakhman/.local/lib/python3.7/site-packages/sklearn/linear_model/_base.py\", line 663, in fit\n",
      "    X, y, accept_sparse=accept_sparse, y_numeric=True, multi_output=True\n",
      "  File \"/home/alibekabdrakhman/.local/lib/python3.7/site-packages/sklearn/base.py\", line 581, in _validate_data\n",
      "    X, y = check_X_y(X, y, **check_params)\n",
      "  File \"/home/alibekabdrakhman/.local/lib/python3.7/site-packages/sklearn/utils/validation.py\", line 976, in check_X_y\n",
      "    estimator=estimator,\n",
      "  File \"/home/alibekabdrakhman/.local/lib/python3.7/site-packages/sklearn/utils/validation.py\", line 800, in check_array\n",
      "    _assert_all_finite(array, allow_nan=force_all_finite == \"allow-nan\")\n",
      "  File \"/home/alibekabdrakhman/.local/lib/python3.7/site-packages/sklearn/utils/validation.py\", line 116, in _assert_all_finite\n",
      "    type_err, msg_dtype if msg_dtype is not None else X.dtype\n",
      "ValueError: Input contains NaN, infinity or a value too large for dtype('float64').\n",
      "\n",
      "  warnings.warn(some_fits_failed_message, FitFailedWarning)\n"
     ]
    },
    {
     "data": {
      "text/plain": [
       "array([nan, nan, nan, nan, nan, nan, nan, nan, nan, nan])"
      ]
     },
     "execution_count": 29,
     "metadata": {},
     "output_type": "execute_result"
    }
   ],
   "source": [
    "results = cross_val_score(regressor, X_train, y_train, scoring='neg_mean_squared_error', cv=kf)\n",
    "results"
   ]
  },
  {
   "cell_type": "code",
   "execution_count": 30,
   "metadata": {
    "colab": {
     "base_uri": "https://localhost:8080/",
     "height": 363
    },
    "id": "MGqRcd34xL-6",
    "outputId": "3e90916e-64f8-454f-a1e2-646a66cf4422"
   },
   "outputs": [
    {
     "ename": "AttributeError",
     "evalue": "'LinearRegression' object has no attribute 'coef_'",
     "output_type": "error",
     "traceback": [
      "\u001b[0;31m---------------------------------------------------------------------------\u001b[0m",
      "\u001b[0;31mAttributeError\u001b[0m                            Traceback (most recent call last)",
      "\u001b[0;32m/tmp/ipykernel_94551/2607045440.py\u001b[0m in \u001b[0;36m<module>\u001b[0;34m\u001b[0m\n\u001b[0;32m----> 1\u001b[0;31m \u001b[0my_pred\u001b[0m \u001b[0;34m=\u001b[0m \u001b[0mregressor\u001b[0m\u001b[0;34m.\u001b[0m\u001b[0mpredict\u001b[0m\u001b[0;34m(\u001b[0m\u001b[0mX_test\u001b[0m\u001b[0;34m)\u001b[0m\u001b[0;34m\u001b[0m\u001b[0;34m\u001b[0m\u001b[0m\n\u001b[0m\u001b[1;32m      2\u001b[0m \u001b[0my_pred\u001b[0m \u001b[0;34m=\u001b[0m \u001b[0mpd\u001b[0m\u001b[0;34m.\u001b[0m\u001b[0mDataFrame\u001b[0m\u001b[0;34m(\u001b[0m\u001b[0my_pred\u001b[0m\u001b[0;34m,\u001b[0m \u001b[0mcolumns\u001b[0m\u001b[0;34m=\u001b[0m\u001b[0;34m[\u001b[0m\u001b[0;34m'Price'\u001b[0m\u001b[0;34m]\u001b[0m\u001b[0;34m)\u001b[0m\u001b[0;34m\u001b[0m\u001b[0;34m\u001b[0m\u001b[0m\n\u001b[1;32m      3\u001b[0m \u001b[0my_pred\u001b[0m\u001b[0;34m.\u001b[0m\u001b[0mhead\u001b[0m\u001b[0;34m(\u001b[0m\u001b[0;36m10\u001b[0m\u001b[0;34m)\u001b[0m\u001b[0;34m\u001b[0m\u001b[0;34m\u001b[0m\u001b[0m\n",
      "\u001b[0;32m~/.local/lib/python3.7/site-packages/sklearn/linear_model/_base.py\u001b[0m in \u001b[0;36mpredict\u001b[0;34m(self, X)\u001b[0m\n\u001b[1;32m    360\u001b[0m             \u001b[0mReturns\u001b[0m \u001b[0mpredicted\u001b[0m \u001b[0mvalues\u001b[0m\u001b[0;34m.\u001b[0m\u001b[0;34m\u001b[0m\u001b[0;34m\u001b[0m\u001b[0m\n\u001b[1;32m    361\u001b[0m         \"\"\"\n\u001b[0;32m--> 362\u001b[0;31m         \u001b[0;32mreturn\u001b[0m \u001b[0mself\u001b[0m\u001b[0;34m.\u001b[0m\u001b[0m_decision_function\u001b[0m\u001b[0;34m(\u001b[0m\u001b[0mX\u001b[0m\u001b[0;34m)\u001b[0m\u001b[0;34m\u001b[0m\u001b[0;34m\u001b[0m\u001b[0m\n\u001b[0m\u001b[1;32m    363\u001b[0m \u001b[0;34m\u001b[0m\u001b[0m\n\u001b[1;32m    364\u001b[0m     \u001b[0m_preprocess_data\u001b[0m \u001b[0;34m=\u001b[0m \u001b[0mstaticmethod\u001b[0m\u001b[0;34m(\u001b[0m\u001b[0m_preprocess_data\u001b[0m\u001b[0;34m)\u001b[0m\u001b[0;34m\u001b[0m\u001b[0;34m\u001b[0m\u001b[0m\n",
      "\u001b[0;32m~/.local/lib/python3.7/site-packages/sklearn/linear_model/_base.py\u001b[0m in \u001b[0;36m_decision_function\u001b[0;34m(self, X)\u001b[0m\n\u001b[1;32m    344\u001b[0m \u001b[0;34m\u001b[0m\u001b[0m\n\u001b[1;32m    345\u001b[0m         \u001b[0mX\u001b[0m \u001b[0;34m=\u001b[0m \u001b[0mself\u001b[0m\u001b[0;34m.\u001b[0m\u001b[0m_validate_data\u001b[0m\u001b[0;34m(\u001b[0m\u001b[0mX\u001b[0m\u001b[0;34m,\u001b[0m \u001b[0maccept_sparse\u001b[0m\u001b[0;34m=\u001b[0m\u001b[0;34m[\u001b[0m\u001b[0;34m\"csr\"\u001b[0m\u001b[0;34m,\u001b[0m \u001b[0;34m\"csc\"\u001b[0m\u001b[0;34m,\u001b[0m \u001b[0;34m\"coo\"\u001b[0m\u001b[0;34m]\u001b[0m\u001b[0;34m,\u001b[0m \u001b[0mreset\u001b[0m\u001b[0;34m=\u001b[0m\u001b[0;32mFalse\u001b[0m\u001b[0;34m)\u001b[0m\u001b[0;34m\u001b[0m\u001b[0;34m\u001b[0m\u001b[0m\n\u001b[0;32m--> 346\u001b[0;31m         \u001b[0;32mreturn\u001b[0m \u001b[0msafe_sparse_dot\u001b[0m\u001b[0;34m(\u001b[0m\u001b[0mX\u001b[0m\u001b[0;34m,\u001b[0m \u001b[0mself\u001b[0m\u001b[0;34m.\u001b[0m\u001b[0mcoef_\u001b[0m\u001b[0;34m.\u001b[0m\u001b[0mT\u001b[0m\u001b[0;34m,\u001b[0m \u001b[0mdense_output\u001b[0m\u001b[0;34m=\u001b[0m\u001b[0;32mTrue\u001b[0m\u001b[0;34m)\u001b[0m \u001b[0;34m+\u001b[0m \u001b[0mself\u001b[0m\u001b[0;34m.\u001b[0m\u001b[0mintercept_\u001b[0m\u001b[0;34m\u001b[0m\u001b[0;34m\u001b[0m\u001b[0m\n\u001b[0m\u001b[1;32m    347\u001b[0m \u001b[0;34m\u001b[0m\u001b[0m\n\u001b[1;32m    348\u001b[0m     \u001b[0;32mdef\u001b[0m \u001b[0mpredict\u001b[0m\u001b[0;34m(\u001b[0m\u001b[0mself\u001b[0m\u001b[0;34m,\u001b[0m \u001b[0mX\u001b[0m\u001b[0;34m)\u001b[0m\u001b[0;34m:\u001b[0m\u001b[0;34m\u001b[0m\u001b[0;34m\u001b[0m\u001b[0m\n",
      "\u001b[0;31mAttributeError\u001b[0m: 'LinearRegression' object has no attribute 'coef_'"
     ]
    }
   ],
   "source": [
    "y_pred = regressor.predict(X_test)\n",
    "y_pred = pd.DataFrame(y_pred, columns=['Price'])\n",
    "y_pred.head(10)"
   ]
  },
  {
   "cell_type": "code",
   "execution_count": 31,
   "metadata": {
    "colab": {
     "base_uri": "https://localhost:8080/",
     "height": 424
    },
    "id": "LHXxsgXo5Fte",
    "outputId": "3b12993d-3757-46d0-f9ca-208f949f4ce3"
   },
   "outputs": [
    {
     "data": {
      "text/html": [
       "<div>\n",
       "<style scoped>\n",
       "    .dataframe tbody tr th:only-of-type {\n",
       "        vertical-align: middle;\n",
       "    }\n",
       "\n",
       "    .dataframe tbody tr th {\n",
       "        vertical-align: top;\n",
       "    }\n",
       "\n",
       "    .dataframe thead th {\n",
       "        text-align: right;\n",
       "    }\n",
       "</style>\n",
       "<table border=\"1\" class=\"dataframe\">\n",
       "  <thead>\n",
       "    <tr style=\"text-align: right;\">\n",
       "      <th></th>\n",
       "      <th>Price</th>\n",
       "    </tr>\n",
       "  </thead>\n",
       "  <tbody>\n",
       "    <tr>\n",
       "      <th>228</th>\n",
       "      <td>1354</td>\n",
       "    </tr>\n",
       "    <tr>\n",
       "      <th>194</th>\n",
       "      <td>8641</td>\n",
       "    </tr>\n",
       "    <tr>\n",
       "      <th>88</th>\n",
       "      <td>9796</td>\n",
       "    </tr>\n",
       "    <tr>\n",
       "      <th>95</th>\n",
       "      <td>12800</td>\n",
       "    </tr>\n",
       "    <tr>\n",
       "      <th>214</th>\n",
       "      <td>15043</td>\n",
       "    </tr>\n",
       "    <tr>\n",
       "      <th>...</th>\n",
       "      <td>...</td>\n",
       "    </tr>\n",
       "    <tr>\n",
       "      <th>42</th>\n",
       "      <td>9387</td>\n",
       "    </tr>\n",
       "    <tr>\n",
       "      <th>17</th>\n",
       "      <td>3356</td>\n",
       "    </tr>\n",
       "    <tr>\n",
       "      <th>5</th>\n",
       "      <td>7329</td>\n",
       "    </tr>\n",
       "    <tr>\n",
       "      <th>180</th>\n",
       "      <td>6790</td>\n",
       "    </tr>\n",
       "    <tr>\n",
       "      <th>106</th>\n",
       "      <td>6802</td>\n",
       "    </tr>\n",
       "  </tbody>\n",
       "</table>\n",
       "<p>96 rows × 1 columns</p>\n",
       "</div>"
      ],
      "text/plain": [
       "     Price\n",
       "228   1354\n",
       "194   8641\n",
       "88    9796\n",
       "95   12800\n",
       "214  15043\n",
       "..     ...\n",
       "42    9387\n",
       "17    3356\n",
       "5     7329\n",
       "180   6790\n",
       "106   6802\n",
       "\n",
       "[96 rows x 1 columns]"
      ]
     },
     "execution_count": 31,
     "metadata": {},
     "output_type": "execute_result"
    }
   ],
   "source": [
    "test_df = pd.DataFrame(y_test)\n",
    "test_df"
   ]
  },
  {
   "cell_type": "code",
   "execution_count": null,
   "metadata": {},
   "outputs": [],
   "source": []
  }
 ],
 "metadata": {
  "colab": {
   "provenance": []
  },
  "kernelspec": {
   "display_name": "Python 3 (ipykernel)",
   "language": "python",
   "name": "python3"
  },
  "language_info": {
   "codemirror_mode": {
    "name": "ipython",
    "version": 3
   },
   "file_extension": ".py",
   "mimetype": "text/x-python",
   "name": "python",
   "nbconvert_exporter": "python",
   "pygments_lexer": "ipython3",
   "version": "3.7.15"
  }
 },
 "nbformat": 4,
 "nbformat_minor": 1
}
